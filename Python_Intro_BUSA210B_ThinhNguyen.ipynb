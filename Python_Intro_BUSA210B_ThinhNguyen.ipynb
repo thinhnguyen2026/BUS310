{
  "nbformat": 4,
  "nbformat_minor": 0,
  "metadata": {
    "colab": {
      "provenance": [],
      "authorship_tag": "ABX9TyPu+MbnUq+diicT9w4POGn0",
      "include_colab_link": true
    },
    "kernelspec": {
      "name": "python3",
      "display_name": "Python 3"
    },
    "language_info": {
      "name": "python"
    }
  },
  "cells": [
    {
      "cell_type": "markdown",
      "metadata": {
        "id": "view-in-github",
        "colab_type": "text"
      },
      "source": [
        "<a href=\"https://colab.research.google.com/github/thinhnguyen2026/BUS310/blob/main/Python_Intro_BUSA210B_ThinhNguyen.ipynb\" target=\"_parent\"><img src=\"https://colab.research.google.com/assets/colab-badge.svg\" alt=\"Open In Colab\"/></a>"
      ]
    },
    {
      "cell_type": "markdown",
      "source": [
        "First Day of Python Coding in BUSA210B"
      ],
      "metadata": {
        "id": "7jA8wb0rInKO"
      }
    },
    {
      "cell_type": "code",
      "execution_count": null,
      "metadata": {
        "colab": {
          "base_uri": "https://localhost:8080/"
        },
        "id": "fm0_g_llHtY8",
        "outputId": "fadd43ad-c93a-4332-ff99-97b461897395"
      },
      "outputs": [
        {
          "output_type": "stream",
          "name": "stdout",
          "text": [
            "Hello, World\n"
          ]
        }
      ],
      "source": [
        "print(\"Hello, World\")"
      ]
    },
    {
      "cell_type": "code",
      "source": [
        "x = 3\n",
        "y = 4\n",
        "print(x + y)"
      ],
      "metadata": {
        "colab": {
          "base_uri": "https://localhost:8080/"
        },
        "id": "Mu5Kn_UUJyOb",
        "outputId": "92c1d113-59ea-43c2-d814-c9a5a62868bc"
      },
      "execution_count": null,
      "outputs": [
        {
          "output_type": "stream",
          "name": "stdout",
          "text": [
            "7\n"
          ]
        }
      ]
    },
    {
      "cell_type": "markdown",
      "source": [
        "Variables and Objects in Python"
      ],
      "metadata": {
        "id": "SM7dwgg1MXLx"
      }
    },
    {
      "cell_type": "code",
      "source": [
        "#Lists - Data Type! It is mutable (can be changed after it is created)\n",
        "\n",
        "numbers = [2, 3, 4, 5, 6]\n",
        "print(numbers)\n",
        "\n",
        "numbers[1] = \"Andy\" #changes the second item in the list pointed to by numbers from 3 to \"Andy\"\n",
        "numbers"
      ],
      "metadata": {
        "colab": {
          "base_uri": "https://localhost:8080/"
        },
        "id": "AfWbp9TTMWOt",
        "outputId": "9038b31e-c3df-4ee9-8302-e681a32cc76f"
      },
      "execution_count": null,
      "outputs": [
        {
          "output_type": "stream",
          "name": "stdout",
          "text": [
            "[2, 3, 4, 5, 6]\n"
          ]
        },
        {
          "output_type": "execute_result",
          "data": {
            "text/plain": [
              "[2, 'Andy', 4, 5, 6]"
            ]
          },
          "metadata": {},
          "execution_count": 7
        }
      ]
    },
    {
      "cell_type": "code",
      "source": [
        "#we can also add items to an already created list.\n",
        "#using the function \"append()\"\n",
        "\n",
        "numbers.append(15)\n",
        "print(numbers)"
      ],
      "metadata": {
        "colab": {
          "base_uri": "https://localhost:8080/"
        },
        "id": "pTW3w_mzNTTb",
        "outputId": "131ef99d-0473-4fef-9eac-e267fe4b5ba3"
      },
      "execution_count": null,
      "outputs": [
        {
          "output_type": "stream",
          "name": "stdout",
          "text": [
            "[2, 'Andy', 4, 5, 6, 15]\n"
          ]
        }
      ]
    },
    {
      "cell_type": "markdown",
      "source": [],
      "metadata": {
        "id": "AIBdn5kaNomA"
      }
    },
    {
      "cell_type": "code",
      "source": [
        "#tuples are immutable\n",
        "season = (\"Summer\", \"Spring\", \"Winter\", \"Fall\")\n",
        "print(season)\n",
        "season[1] = \"Winter\"\n",
        "print(season)"
      ],
      "metadata": {
        "colab": {
          "base_uri": "https://localhost:8080/",
          "height": 211
        },
        "collapsed": true,
        "id": "Q4lPQ_MINsTr",
        "outputId": "82bae7c4-12d1-41dd-a2ce-7f7e7e20804d"
      },
      "execution_count": null,
      "outputs": [
        {
          "output_type": "stream",
          "name": "stdout",
          "text": [
            "('Summer', 'Spring', 'Winter', 'Fall')\n"
          ]
        },
        {
          "output_type": "error",
          "ename": "TypeError",
          "evalue": "'tuple' object does not support item assignment",
          "traceback": [
            "\u001b[0;31m---------------------------------------------------------------------------\u001b[0m",
            "\u001b[0;31mTypeError\u001b[0m                                 Traceback (most recent call last)",
            "\u001b[0;32m<ipython-input-9-c7ce1c90993c>\u001b[0m in \u001b[0;36m<cell line: 4>\u001b[0;34m()\u001b[0m\n\u001b[1;32m      2\u001b[0m \u001b[0mseason\u001b[0m \u001b[0;34m=\u001b[0m \u001b[0;34m(\u001b[0m\u001b[0;34m\"Summer\"\u001b[0m\u001b[0;34m,\u001b[0m \u001b[0;34m\"Spring\"\u001b[0m\u001b[0;34m,\u001b[0m \u001b[0;34m\"Winter\"\u001b[0m\u001b[0;34m,\u001b[0m \u001b[0;34m\"Fall\"\u001b[0m\u001b[0;34m)\u001b[0m\u001b[0;34m\u001b[0m\u001b[0;34m\u001b[0m\u001b[0m\n\u001b[1;32m      3\u001b[0m \u001b[0mprint\u001b[0m\u001b[0;34m(\u001b[0m\u001b[0mseason\u001b[0m\u001b[0;34m)\u001b[0m\u001b[0;34m\u001b[0m\u001b[0;34m\u001b[0m\u001b[0m\n\u001b[0;32m----> 4\u001b[0;31m \u001b[0mseason\u001b[0m\u001b[0;34m[\u001b[0m\u001b[0;36m1\u001b[0m\u001b[0;34m]\u001b[0m \u001b[0;34m=\u001b[0m\u001b[0;34m\"Winter\"\u001b[0m\u001b[0;34m\u001b[0m\u001b[0;34m\u001b[0m\u001b[0m\n\u001b[0m\u001b[1;32m      5\u001b[0m \u001b[0mprint\u001b[0m\u001b[0;34m(\u001b[0m\u001b[0mseason\u001b[0m\u001b[0;34m)\u001b[0m\u001b[0;34m\u001b[0m\u001b[0;34m\u001b[0m\u001b[0m\n",
            "\u001b[0;31mTypeError\u001b[0m: 'tuple' object does not support item assignment"
          ]
        }
      ]
    },
    {
      "cell_type": "markdown",
      "source": [
        "A Set is a data type in Python used to  store several items in a single object(variable). It is a collection with no duplicate elements/items."
      ],
      "metadata": {
        "id": "83dqrXVjPFXM"
      }
    },
    {
      "cell_type": "code",
      "source": [
        "numbers2 = [2, 2, 3, 4, 5, 6]\n",
        "unique2 = set(numbers2)\n",
        "print(numbers2)\n",
        "print(unique2)\n",
        "\n"
      ],
      "metadata": {
        "colab": {
          "base_uri": "https://localhost:8080/"
        },
        "id": "I4Ug8Be_PZHz",
        "outputId": "1f6305fa-2f1f-4b54-8bba-6697fad767fd"
      },
      "execution_count": null,
      "outputs": [
        {
          "output_type": "stream",
          "name": "stdout",
          "text": [
            "[2, 2, 3, 4, 5, 6]\n",
            "{2, 3, 4, 5, 6}\n"
          ]
        }
      ]
    },
    {
      "cell_type": "code",
      "source": [
        "#Another way to create sets\n",
        "\n",
        "set1 = {1, 1, 4, 4, \"Sam\", \"Holly\", 3, \"Holly\"}\n",
        "print(set1) #using print keeps the results in the output"
      ],
      "metadata": {
        "colab": {
          "base_uri": "https://localhost:8080/"
        },
        "id": "z4fRq8gHSRrw",
        "outputId": "21c78de3-5af1-4da6-bb0d-3831ca992028"
      },
      "execution_count": null,
      "outputs": [
        {
          "output_type": "stream",
          "name": "stdout",
          "text": [
            "{1, 3, 4, 'Holly', 'Sam'}\n"
          ]
        }
      ]
    },
    {
      "cell_type": "code",
      "source": [
        "#Are sets mutable?\n",
        "set1.add(5)\n",
        "print(set1) #yes, it is changeable\n",
        "\n",
        "# set2 = set1.remove(5)\n",
        "# print(set2)\n",
        "\n",
        "set1.remove(5)\n",
        "print(set1)\n",
        "\n",
        "set2 = set1\n",
        "print(set2)"
      ],
      "metadata": {
        "colab": {
          "base_uri": "https://localhost:8080/"
        },
        "id": "ee5qPP21Snus",
        "outputId": "589dfe97-aefb-4f9e-e3b9-8e52c1e3f295"
      },
      "execution_count": null,
      "outputs": [
        {
          "output_type": "stream",
          "name": "stdout",
          "text": [
            "{1, 3, 4, 5, 'Holly', 'Sam'}\n",
            "None\n"
          ]
        }
      ]
    },
    {
      "cell_type": "markdown",
      "source": [
        "Dictionary = d\n",
        "*if and only if we assign definitions to each term, aka key value pairs.\n",
        "*Keys are immuatble and unique\n",
        "*Values are mutable\n",
        "\n",
        "d = {1:'J', key:value,...}\n",
        "\n",
        "##in Python can hold data.\n",
        "##can have actions associated with them.\n",
        "\n",
        "Pointer => reference\n",
        "point to => refer to\n",
        "Pointed to => referenced\n",
        "Point X to Y => cause x to refer to Y\n",
        "\n",
        "###Assignment statements don't copy anything, the y point a variable to an object.\n",
        "-> So, assigning one variable to another variable(set2 = set1) is really pointing two variables to the same object.\n",
        "\n",
        "#is returns if the references to check the identity\n",
        "##== to check the equality"
      ],
      "metadata": {
        "id": "DeQbd6PUUh6a"
      }
    },
    {
      "cell_type": "code",
      "source": [
        "x = 7\n",
        "y = x\n",
        "x = 3\n",
        "print(x, \", \", y)"
      ],
      "metadata": {
        "colab": {
          "base_uri": "https://localhost:8080/"
        },
        "id": "o-3J47TIbvGr",
        "outputId": "4e78bee9-f22f-4d91-fc21-19ec499c0292"
      },
      "execution_count": null,
      "outputs": [
        {
          "output_type": "stream",
          "name": "stdout",
          "text": [
            "3 ,  7\n"
          ]
        }
      ]
    },
    {
      "cell_type": "markdown",
      "source": [
        "1. If statement -> actions(s) if true...\n",
        "2. if_else statement -> action(s) if true\n",
        "3. Nested if statement -> recurring condition with action on the true portion each condition\n",
        "4. If_elif_else statement -> recurring condition with action(s) on the false portion of each condition."
      ],
      "metadata": {
        "id": "sw7cCNKYdOxC"
      }
    },
    {
      "cell_type": "markdown",
      "source": [
        "3 main steps:\n",
        "1. test condition: asking true of false\n",
        "2. to tell/determine actions to take if true\n",
        "3. Closing statement/actions\n",
        "\n"
      ],
      "metadata": {
        "id": "J9tLNhtJeC_v"
      }
    },
    {
      "cell_type": "markdown",
      "source": [
        "# Conditional Statement\n",
        "\n",
        "## Starting with IF statement"
      ],
      "metadata": {
        "id": "D-OfrkkXfKoo"
      }
    },
    {
      "cell_type": "code",
      "source": [
        "# Example: Print the absolute value of a number assigned to a variable.\n",
        "\n",
        "# Start by defining our variable , x.\n",
        "x = - 10\n",
        "\n",
        "# now we start the if statement\n",
        "# Step 1: test condition\n",
        "if x < 0:\n",
        "  x = -x # this changes the negative value to positive (true values are negative given the test condition above.)\n",
        "else:\n",
        "  print(x)\n",
        "\n",
        "print(x) # this will show the value of x regardless of the true/false result of the test condition.\n",
        "\n",
        "if x < 10:\n",
        "  x = abs(x)\n",
        "print(x)\n",
        "\n",
        "x = abs(x)\n",
        "print(x)\n",
        "\n",
        "\n",
        "x = 10\n",
        "if x < 10:\n",
        "  print(\"The original value of x is\", x)\n",
        "  x = abs(x)\n",
        "print(\"The absolute value of x is\", x)\n"
      ],
      "metadata": {
        "colab": {
          "base_uri": "https://localhost:8080/"
        },
        "id": "8hF5XBHOfQMY",
        "outputId": "29660e0c-d38e-4df8-97e2-afc52b5ea647"
      },
      "execution_count": null,
      "outputs": [
        {
          "output_type": "stream",
          "name": "stdout",
          "text": [
            "10\n",
            "10\n",
            "10\n",
            "The absolute value of x is 10\n"
          ]
        }
      ]
    },
    {
      "cell_type": "markdown",
      "source": [
        "# Sep, 3, 2024\n",
        "\n",
        "## If-else conditional statements"
      ],
      "metadata": {
        "id": "QkgB4yKGKNXH"
      }
    },
    {
      "cell_type": "code",
      "source": [
        "#First if-else conditioanl statement example.\n",
        "\n",
        "# Define the x variable\n",
        "x = 20\n",
        "\n",
        "#start the if-else statement\n",
        "#step 1: test condition\n",
        "if x < 15:\n",
        "  #step 2: if's action\n",
        "   print(\"x is smaller than 15\")\n",
        "   print(\"I came from the if block\") #action if true,\n",
        "   print('Done by Thinh Nguyen')\n",
        "  #step 3: work on the false branch - therefore use the else function\n",
        "else: #remmeber the colon and the identation\n",
        "    print(\"x is NOT smaller than 15\")\n",
        "    print(\"I came from the else block\")\n",
        "print('Done by Thinh Nguyen') #step 4 - our closing statement\n"
      ],
      "metadata": {
        "colab": {
          "base_uri": "https://localhost:8080/"
        },
        "id": "5cGtybvaKWv-",
        "outputId": "ac998ab4-e844-41ff-dacf-06f153a01f33"
      },
      "execution_count": null,
      "outputs": [
        {
          "output_type": "stream",
          "name": "stdout",
          "text": [
            "x is NOT smaller than 15\n",
            "I came from the else block\n",
            "Done by Thinh Nguyen\n"
          ]
        }
      ]
    },
    {
      "cell_type": "markdown",
      "source": [
        "Syntax: 2 condition nested statement\n",
        "if condition 1:\n",
        "  if condition 2: # action if true from the condition above\n",
        "      action(s) if true (#2)\n",
        "\n",
        "  else:\n",
        "      actions(s) if false(#2)\n",
        "\n",
        "else:\n",
        "  action(s) if false(#1)"
      ],
      "metadata": {
        "id": "oHdECVuUeCMK"
      }
    },
    {
      "cell_type": "markdown",
      "source": [],
      "metadata": {
        "id": "dLFWGIbnftYK"
      }
    },
    {
      "cell_type": "code",
      "source": [
        "#Syntax: 4 condition nested statement\n",
        "if condition 1:\n",
        "  if condition 2: # action if true from the condition above\n",
        "      if condition 3:\n",
        "          if condition 4:\n",
        "              action(s) if true (#4)\n",
        "          else:\n",
        "              actions(s) if false(#4)\n",
        "      else:\n",
        "          actions(s) if false(#3)\n",
        "  else:\n",
        "      action(s) if true (#2)\n",
        "else:\n",
        "  action(s) if false(#1)"
      ],
      "metadata": {
        "id": "VxTEOxDXfyP_"
      },
      "execution_count": null,
      "outputs": []
    },
    {
      "cell_type": "code",
      "source": [
        "# python program to illustrate nested If statement\n",
        "x = 10\n",
        "if (x == 10):\n",
        "# First nested if statement\n",
        "  if (x < 15):\n",
        "    print(\"x is smaller than 15\")\n",
        "  # Nested - if statement\n",
        "  # Will only be executed if statement above is true\n",
        "    if (x < 12):\n",
        "      print(\"x is smaller than 12 too\")\n",
        "    else:\n",
        "      print(\"x is greater than 15\")"
      ],
      "metadata": {
        "colab": {
          "base_uri": "https://localhost:8080/"
        },
        "id": "UsxWkNO0ki_T",
        "outputId": "b3b8622b-0b3a-4dd6-9fc6-3ad229fff6d1"
      },
      "execution_count": null,
      "outputs": [
        {
          "output_type": "stream",
          "name": "stdout",
          "text": [
            "x is smaller than 15\n",
            "x is smaller than 12 too\n"
          ]
        }
      ]
    },
    {
      "cell_type": "code",
      "source": [
        "if x>10:\n",
        " print(\"x is greater than 10\")\n",
        " if x<15:\n",
        "    print(\"x is smaller than 15\")\n",
        "    if x<12:\n",
        "      print(\"x is smaller than 12\")\n",
        "    else:\n",
        "      print(\"x is not smaller than 12\")\n",
        "else:\n",
        "  print('x is not greater than 10')"
      ],
      "metadata": {
        "colab": {
          "base_uri": "https://localhost:8080/"
        },
        "id": "1mHn6ytEqxIY",
        "outputId": "efcd665b-23d3-48e7-e995-6f7d446b513a"
      },
      "execution_count": null,
      "outputs": [
        {
          "output_type": "stream",
          "name": "stdout",
          "text": [
            "x is not greater than 10\n"
          ]
        }
      ]
    },
    {
      "cell_type": "code",
      "source": [
        "purchase_amount = 150\n",
        "age = 18\n",
        "\n",
        "if purchase_amount > 100:\n",
        "  if age < 30:\n",
        "    print(\"Show ad for tech gadgets.\")\n",
        "  else:\n",
        "    print(\"Show ad for home aplliances.\")\n",
        "\n",
        "  print(\"Log this interaction.\")\n",
        "\n",
        "else:\n",
        "  print(\"Show generic ad.\")\n",
        "\n",
        "print(\"Thank for shopping.\")"
      ],
      "metadata": {
        "colab": {
          "base_uri": "https://localhost:8080/"
        },
        "id": "23A0dQkssEpm",
        "outputId": "c4e201ca-e5c3-4451-bc5a-d29a56d25299"
      },
      "execution_count": null,
      "outputs": [
        {
          "output_type": "stream",
          "name": "stdout",
          "text": [
            "Show ad for tech gadgets.\n",
            "Log this interaction.\n",
            "Thank for shopping.\n"
          ]
        }
      ]
    },
    {
      "cell_type": "markdown",
      "source": [
        "if condition 1:\n",
        "  #Execute this block of code\n",
        "  elif condition 2:\n",
        "    #Excute this block of code\n",
        "    elif condition 3:\n",
        "      #Excute this block of code\n",
        "    else:\n",
        "  else:\n",
        "else:"
      ],
      "metadata": {
        "id": "pGanepAzM2as"
      }
    },
    {
      "cell_type": "markdown",
      "source": [
        "##if-else-else conditioanl statement\n",
        "\n",
        "##Sept 10, 2024"
      ],
      "metadata": {
        "id": "x19IzO1jNv3-"
      }
    },
    {
      "cell_type": "code",
      "source": [
        "## We are building an if-elif-else statement that reports if a person is a minor (<18). adults\n",
        "\n",
        "   #define our variable\n",
        "age = 1  #the number is random, change it to test your written code/program\n",
        "\n",
        "    #now start the if-elif-else statement\n",
        "if age < 18:\n",
        "  print(\"You are a minor.\")\n",
        "elif age < 65:\n",
        "  print(\"You are an adult.\")\n",
        "else:\n",
        "  print(\"You are a senior\")\n",
        "\n",
        "print(\"Thank you for using our program.\")"
      ],
      "metadata": {
        "colab": {
          "base_uri": "https://localhost:8080/"
        },
        "id": "iePvcSxWOB9_",
        "outputId": "1ff1d66b-3b13-49dd-fcc4-36837e0e2ec2"
      },
      "execution_count": null,
      "outputs": [
        {
          "output_type": "stream",
          "name": "stdout",
          "text": [
            "You are a minor.\n",
            "Thank you for using our program.\n"
          ]
        }
      ]
    },
    {
      "cell_type": "code",
      "source": [
        "customer_spend = 150 #Define our variable\n",
        "\n",
        "#Start the if-elif-else statement\n",
        "if customer_spend >= 200:\n",
        "  print(\"Offer 20% discount.\")\n",
        "elif customer_spend >= 100:\n",
        "  print(\"Offer 10% discount.\")\n",
        "elif customer_spend >= 50:\n",
        "  print(\"Offer 5% discount.\")\n",
        "else:\n",
        "  print(\"Offer no discount.\")\n",
        "\n",
        "print(\"Created by Harry.\")"
      ],
      "metadata": {
        "colab": {
          "base_uri": "https://localhost:8080/"
        },
        "id": "UJ3_BgB8P1Co",
        "outputId": "b1187361-8fbe-4d2b-b090-e3a455a212c8"
      },
      "execution_count": null,
      "outputs": [
        {
          "output_type": "stream",
          "name": "stdout",
          "text": [
            "Offer 10% discount.\n",
            "Created by Harry.\n"
          ]
        }
      ]
    },
    {
      "cell_type": "code",
      "source": [
        "current_inventory = 150 #Define variable\n",
        "\n",
        "#Start if-elif-else statement\n",
        "if current_inventory < 50:\n",
        "  print(\"The company needs a significant restock\")\n",
        "elif (current_inventory >= 50) and (current_inventory < 100):\n",
        "  print(\"The company needs a moderate restock\")\n",
        "elif (current_inventory >=100) and (current_inventory < 150):\n",
        "  print(\"The company needs a lighter restock\")\n",
        "else:\n",
        "  print(\"The company has a sufficient inventory, no restocking necessary\")\n",
        "\n",
        "print(\"Created by Harry\")"
      ],
      "metadata": {
        "colab": {
          "base_uri": "https://localhost:8080/"
        },
        "id": "eQjnbR-LRyxw",
        "outputId": "d2a9b82a-c40c-4a79-b462-af4daf816866"
      },
      "execution_count": null,
      "outputs": [
        {
          "output_type": "stream",
          "name": "stdout",
          "text": [
            "The company has a sufficient inventory, no restocking necessary\n",
            "Created by Harry\n"
          ]
        }
      ]
    },
    {
      "cell_type": "code",
      "source": [
        "#Define variable\n",
        "current_inventory = 150\n",
        "demand_level = 'increase'\n",
        "\n",
        "if current_inventory < 50:\n",
        "  print(\"The company needs a significant restock\")\n",
        "elif 50 <= current_inventory < 100 and demand_level =='increase':\n",
        "  print(\"restock more: Order 75 more units\")\n",
        "elif 50 <= current_inventory < 100 and demand_level =='stable':\n",
        "  print(\"restock less: Order 50 more units\")\n",
        "elif 100 <= current_inventory < 150 and demand_level =='increase':\n",
        "  print(\"restock more: Order 30 more units\")\n",
        "elif 100 <= current_inventory < 150 and demand_level != 'increase':\n",
        "  print(\"Miniml restoking neededL Order 15 units.\")\n",
        "else:\n",
        "  if demand_level == 'increase':\n",
        "    print(\"Demand is high, restock less\")\n",
        "  else:\n",
        "    print(\"No need to restock. Inventory level are sufficient\")\n",
        "\n",
        "print(\"Created by Harry\")"
      ],
      "metadata": {
        "colab": {
          "base_uri": "https://localhost:8080/"
        },
        "id": "NzjS2dVLV7UE",
        "outputId": "98e67170-8020-42bf-e149-d8ca9b0e7505"
      },
      "execution_count": null,
      "outputs": [
        {
          "output_type": "stream",
          "name": "stdout",
          "text": [
            "Demand is high, restock less\n",
            "Created by Harry\n"
          ]
        }
      ]
    },
    {
      "cell_type": "markdown",
      "source": [
        "##LOOPS\n",
        "#Starting with for loop"
      ],
      "metadata": {
        "id": "rJOt8-NMU8pc"
      }
    },
    {
      "cell_type": "code",
      "source": [
        "for i in range(0, 10, 2):\n",
        "  print(i)"
      ],
      "metadata": {
        "id": "yPKsR-avVDBx",
        "colab": {
          "base_uri": "https://localhost:8080/"
        },
        "outputId": "e9a82fc8-6539-41a3-9c7a-588f8f62a31c"
      },
      "execution_count": null,
      "outputs": [
        {
          "output_type": "stream",
          "name": "stdout",
          "text": [
            "0\n",
            "2\n",
            "4\n",
            "6\n",
            "8\n"
          ]
        }
      ]
    },
    {
      "cell_type": "code",
      "source": [
        "print(\"List Iteration\")\n",
        "l = [\"Business\", \"Analytics\", \"ROCKS\"]\n",
        "for i in l:\n",
        "  print(i)"
      ],
      "metadata": {
        "id": "yuhu3LP8VN7G",
        "colab": {
          "base_uri": "https://localhost:8080/"
        },
        "outputId": "f097204b-9005-4dc1-9d35-cac672ad3ceb"
      },
      "execution_count": null,
      "outputs": [
        {
          "output_type": "stream",
          "name": "stdout",
          "text": [
            "List Iteration\n",
            "Business\n",
            "Analytics\n",
            "ROCKS\n"
          ]
        }
      ]
    },
    {
      "cell_type": "code",
      "source": [
        "print(\"\\nTuple Iteration\")\n",
        "t = (\"Business\", \"Analytics\", \"ROCKS\")\n",
        "for i in t:\n",
        "  print(i)"
      ],
      "metadata": {
        "id": "2-qgELoFWRWd",
        "colab": {
          "base_uri": "https://localhost:8080/"
        },
        "outputId": "de725985-b94b-43f7-dd23-d27fe890b560"
      },
      "execution_count": null,
      "outputs": [
        {
          "output_type": "stream",
          "name": "stdout",
          "text": [
            "\n",
            "Tuple Iteration\n",
            "Business\n",
            "Analytics\n",
            "ROCKS\n"
          ]
        }
      ]
    },
    {
      "cell_type": "code",
      "source": [
        "print(\"\\nString Iteration\")\n",
        "s = \"Business Analytics ROCKS\"\n",
        "for i in s:\n",
        "  print(i)"
      ],
      "metadata": {
        "colab": {
          "base_uri": "https://localhost:8080/"
        },
        "id": "y77NIxqxWoZp",
        "outputId": "2449a861-1fff-44a3-bf04-39cc2effa0e2"
      },
      "execution_count": null,
      "outputs": [
        {
          "output_type": "stream",
          "name": "stdout",
          "text": [
            "\n",
            "String Iteration\n",
            "B\n",
            "u\n",
            "s\n",
            "i\n",
            "n\n",
            "e\n",
            "s\n",
            "s\n",
            " \n",
            "A\n",
            "n\n",
            "a\n",
            "l\n",
            "y\n",
            "t\n",
            "i\n",
            "c\n",
            "s\n",
            " \n",
            "R\n",
            "O\n",
            "C\n",
            "K\n",
            "S\n"
          ]
        }
      ]
    },
    {
      "cell_type": "code",
      "source": [
        "print(\"\\nDictionary Iteration\")\n",
        "d = dict()\n",
        "d['xyz'] = 123\n",
        "d['abc'] = 345\n",
        "for i in d:\n",
        "  print(\"%s %d\" %(i, d[i]))"
      ],
      "metadata": {
        "id": "fu6WkzF3Wt_D",
        "colab": {
          "base_uri": "https://localhost:8080/"
        },
        "outputId": "9585846a-e32e-45fb-e240-05669bcc5a6a"
      },
      "execution_count": null,
      "outputs": [
        {
          "output_type": "stream",
          "name": "stdout",
          "text": [
            "\n",
            "Dictionary Iteration\n",
            "xyz 123\n",
            "abc 345\n"
          ]
        }
      ]
    },
    {
      "cell_type": "code",
      "source": [
        "print(\"\\nDictionary Iteration\")\n",
        "d = dict()\n",
        "d['xyz'] = 123\n",
        "d['abc'] = 345\n",
        "for i in d:\n",
        "  print(i, d[i])"
      ],
      "metadata": {
        "colab": {
          "base_uri": "https://localhost:8080/"
        },
        "id": "1h_VlSM-dWXt",
        "outputId": "80b98991-c68a-4c2d-e663-587a49583083"
      },
      "execution_count": null,
      "outputs": [
        {
          "output_type": "stream",
          "name": "stdout",
          "text": [
            "\n",
            "Dictionary Iteration\n",
            "xyz 123\n",
            "abc 345\n"
          ]
        }
      ]
    },
    {
      "cell_type": "code",
      "source": [
        "print(\"\\nSet Iteration\")\n",
        "set1 = {1, 2, 3, 4, 5, 6,6,5,4}\n",
        "for i in set1:\n",
        "  print(i)"
      ],
      "metadata": {
        "colab": {
          "base_uri": "https://localhost:8080/"
        },
        "id": "_jnWbTvcWyD6",
        "outputId": "a4ea4278-218c-4c30-b00d-5179f15f4524"
      },
      "execution_count": null,
      "outputs": [
        {
          "output_type": "stream",
          "name": "stdout",
          "text": [
            "\n",
            "Set Iteration\n",
            "1\n",
            "2\n",
            "3\n",
            "4\n",
            "5\n",
            "6\n"
          ]
        }
      ]
    },
    {
      "cell_type": "markdown",
      "source": [
        "Practice example\n",
        "\n",
        "convert a for loop into a while loop"
      ],
      "metadata": {
        "id": "1pv9ORKccvdr"
      }
    },
    {
      "cell_type": "code",
      "source": [
        "# First ưe have the for loop.\n",
        "\n",
        "for i in range(1,11):\n",
        "  print(i*2)"
      ],
      "metadata": {
        "colab": {
          "base_uri": "https://localhost:8080/"
        },
        "id": "Zp0SqmvZcvEH",
        "outputId": "fdc7af7e-bbfe-4c71-bf10-705662ac2576"
      },
      "execution_count": null,
      "outputs": [
        {
          "output_type": "stream",
          "name": "stdout",
          "text": [
            "2\n",
            "4\n",
            "6\n",
            "8\n",
            "10\n",
            "12\n",
            "14\n",
            "16\n",
            "18\n",
            "20\n"
          ]
        }
      ]
    },
    {
      "cell_type": "code",
      "source": [
        "i = 0\n",
        "while (i<11):\n",
        "  i = i  + 1\n",
        "  print(i*2)\n"
      ],
      "metadata": {
        "colab": {
          "base_uri": "https://localhost:8080/"
        },
        "id": "BF2-_Ublc-ib",
        "outputId": "a44216e1-4d36-447a-ff15-58669e2db1dc"
      },
      "execution_count": null,
      "outputs": [
        {
          "output_type": "stream",
          "name": "stdout",
          "text": [
            "2\n",
            "4\n",
            "6\n",
            "8\n",
            "10\n",
            "12\n",
            "14\n",
            "16\n",
            "18\n",
            "20\n",
            "22\n"
          ]
        }
      ]
    },
    {
      "cell_type": "markdown",
      "source": [
        "##Another example of converting a for loop into a while loop"
      ],
      "metadata": {
        "id": "5r74X2rufmBY"
      }
    },
    {
      "cell_type": "code",
      "source": [
        "#for loop\n",
        "\n",
        "lst = [5,4,3,2,1] #defining our lst variable\n",
        "\n",
        "for n in lst:\n",
        "  print(\"This element is\", n)\n",
        "\n",
        "#While loop\n",
        "\n",
        "i = 0\n",
        "while i < len(lst):\n",
        "  print(\"This element is\", lst[i])\n",
        "  i = i + 1"
      ],
      "metadata": {
        "colab": {
          "base_uri": "https://localhost:8080/"
        },
        "id": "MoaGrtU1ftEd",
        "outputId": "c3726a45-2171-43ec-ef57-be94325341ba"
      },
      "execution_count": null,
      "outputs": [
        {
          "output_type": "stream",
          "name": "stdout",
          "text": [
            "This element is 5\n",
            "This element is 4\n",
            "This element is 3\n",
            "This element is 2\n",
            "This element is 1\n",
            "This element is 5\n",
            "This element is 4\n",
            "This element is 3\n",
            "This element is 2\n",
            "This element is 1\n"
          ]
        }
      ]
    },
    {
      "cell_type": "markdown",
      "source": [
        "9/19/2024\n",
        "Next what will they change when the list is now list 2"
      ],
      "metadata": {
        "id": "Idb-oXwoh5YA"
      }
    },
    {
      "cell_type": "code",
      "source": [
        "r = 5\n",
        "while r < 0:\n",
        "  print(\"The element is\", r)\n",
        "  r = r - 1\n",
        "print(\"The loop has ended\")"
      ],
      "metadata": {
        "id": "Zm2gIkrzh_ei"
      },
      "execution_count": null,
      "outputs": []
    },
    {
      "cell_type": "code",
      "source": [
        "value = 2\n",
        "while value <27:\n",
        "  print(\"The even element is\", value)\n",
        "  value = value + 2\n",
        "print(\"The loop has ended\")"
      ],
      "metadata": {
        "colab": {
          "base_uri": "https://localhost:8080/"
        },
        "id": "Op-q7oDPll9v",
        "outputId": "58510e40-c9d2-463b-ddc6-1e144110870e"
      },
      "execution_count": null,
      "outputs": [
        {
          "output_type": "stream",
          "name": "stdout",
          "text": [
            "The even element is 2\n",
            "The even element is 4\n",
            "The even element is 6\n",
            "The even element is 8\n",
            "The even element is 10\n",
            "The even element is 12\n",
            "The even element is 14\n",
            "The even element is 16\n",
            "The even element is 18\n",
            "The even element is 20\n",
            "The even element is 22\n",
            "The even element is 24\n",
            "The even element is 26\n",
            "The loop has ended\n"
          ]
        }
      ]
    },
    {
      "cell_type": "code",
      "source": [
        "for i in range()"
      ],
      "metadata": {
        "id": "l1CvA44Io1uz"
      },
      "execution_count": null,
      "outputs": []
    },
    {
      "cell_type": "markdown",
      "source": [
        "#A function(fnc) is a reusable block of code that performs a specific task as designed (e.g a blender in the kitchen blends things)\n",
        "\n",
        "\n",
        "##A function can take inputs/arguments and it returns output/value\n",
        "\n",
        "#Function helps us break down complex problems into smaller manageable parts.\n",
        "-> As out program gets bigger function allow us to be organized and make the code more manageable\n",
        "\n",
        "##def: Keyword used to define or declare a fnc\n",
        "#Greet: is the name we have decided to call our function. It is what we use when we want to implement the fnc.\n",
        "\n",
        "#name: is the input parameter(argument) that the fnc accepts.-> this is when we identify the parts of our function\n",
        "\n",
        "print(f\"heloo, {name}): the main body/actions of the function. It is linked to the identified parameters in the line above.\n",
        "\n",
        "return None: this is the portion of the finction that takes the result created within the function to the object land"
      ],
      "metadata": {
        "id": "kH47RP6KrgLv"
      }
    },
    {
      "cell_type": "markdown",
      "source": [
        "##Function"
      ],
      "metadata": {
        "id": "vFjRme4jtESc"
      }
    },
    {
      "cell_type": "code",
      "source": [
        "## Lets start by building our FIRST function. :)\n",
        "\n",
        "def greet(name):\n",
        "  print(f\"Hello, {name}!\")\n",
        "  return None"
      ],
      "metadata": {
        "id": "XquUoaBjtK8j"
      },
      "execution_count": null,
      "outputs": []
    },
    {
      "cell_type": "code",
      "source": [
        "greet(\"Alice\")"
      ],
      "metadata": {
        "colab": {
          "base_uri": "https://localhost:8080/"
        },
        "id": "PGaaCgNhtWLA",
        "outputId": "b4e19e0f-6f5b-4ae9-d2b5-2689dae5e2f9"
      },
      "execution_count": null,
      "outputs": [
        {
          "output_type": "stream",
          "name": "stdout",
          "text": [
            "Hello, Alice!\n"
          ]
        }
      ]
    },
    {
      "cell_type": "markdown",
      "source": [
        "##to call (invoke) a function, we use its name follwed by parentheses\n",
        "-> We then pass the parameters/arguments inside the parenthesis."
      ],
      "metadata": {
        "id": "qFwcCKKvthNC"
      }
    },
    {
      "cell_type": "code",
      "source": [
        "message = greet(\"Bob\")\n",
        "print(message)"
      ],
      "metadata": {
        "colab": {
          "base_uri": "https://localhost:8080/"
        },
        "id": "h2vUfLOsucSZ",
        "outputId": "706a24b5-6db1-44a0-befd-d4e6b7f54f14"
      },
      "execution_count": null,
      "outputs": [
        {
          "output_type": "stream",
          "name": "stdout",
          "text": [
            "Hello, Bob!\n",
            "None\n"
          ]
        }
      ]
    },
    {
      "cell_type": "markdown",
      "source": [
        "### Using the return to move the calculated result from the temporary environmnet to the main python environment."
      ],
      "metadata": {
        "id": "nu6WIwPlv-tL"
      }
    },
    {
      "cell_type": "code",
      "source": [
        "#first lets build the function\n",
        "\n",
        "def add_numbers(a, b):\n",
        "  result = a + b\n",
        "  return result"
      ],
      "metadata": {
        "id": "A_S23IrbwdnD"
      },
      "execution_count": null,
      "outputs": []
    },
    {
      "cell_type": "code",
      "source": [
        "add_numbers(2, 3)"
      ],
      "metadata": {
        "colab": {
          "base_uri": "https://localhost:8080/"
        },
        "id": "AsItwHBPwl5f",
        "outputId": "788160fb-44bc-4ccb-e875-8efcd5f6b45a"
      },
      "execution_count": null,
      "outputs": [
        {
          "output_type": "execute_result",
          "data": {
            "text/plain": [
              "5"
            ]
          },
          "metadata": {},
          "execution_count": 6
        }
      ]
    },
    {
      "cell_type": "markdown",
      "source": [
        "### Local vs. Global environmnet: returning the object created within a function from the local environment to the global environment"
      ],
      "metadata": {
        "id": "FYOnZeFhTiMO"
      }
    },
    {
      "cell_type": "code",
      "source": [
        "##Option 1\n",
        "def greet(name):\n",
        "  print(f\"Hello, {name}!\") #here we tie the parameters to the acition(s)\n",
        "  return None # this is not great because it sends a null value to the global object environment."
      ],
      "metadata": {
        "id": "BVA5uJD8Twjj"
      },
      "execution_count": null,
      "outputs": []
    },
    {
      "cell_type": "code",
      "source": [
        "## we want to send some information from local to global\n",
        "def greet(name):\n",
        "  print(f\"Hello, {name}!\") #here we tie the parameters to the acition(s)\n",
        "  return name # this is not great because it sends a null value to the global object environment."
      ],
      "metadata": {
        "id": "r0zYyk3xUBIB"
      },
      "execution_count": null,
      "outputs": []
    },
    {
      "cell_type": "code",
      "source": [
        "# now we call the greet function and assign it to a variable(message2)\n",
        "\n",
        "message2 = greet('Alice')"
      ],
      "metadata": {
        "colab": {
          "base_uri": "https://localhost:8080/"
        },
        "id": "f_qVvHCkUHOk",
        "outputId": "a36e43bb-ffd1-4eff-9ee0-fee1ef4d2adc"
      },
      "execution_count": null,
      "outputs": [
        {
          "output_type": "stream",
          "name": "stdout",
          "text": [
            "Hello, Alice!\n"
          ]
        }
      ]
    },
    {
      "cell_type": "code",
      "source": [
        "print(message2)"
      ],
      "metadata": {
        "colab": {
          "base_uri": "https://localhost:8080/"
        },
        "id": "6Fqm5Ua5UQnx",
        "outputId": "ee5cad06-85ac-45e5-8a2e-d6bafbae2692"
      },
      "execution_count": null,
      "outputs": [
        {
          "output_type": "stream",
          "name": "stdout",
          "text": [
            "Alice\n"
          ]
        }
      ]
    },
    {
      "cell_type": "code",
      "source": [
        "### Let's update this function pass \"Hellom {name}!\" along to the global environment\n",
        "## option 1\n",
        "\n",
        "def greet(name):\n",
        "  print(f\"Hello, {name}!\") #here we tie the parameters to the acition(s)\n",
        "  greeting = \"Hello, this is \" #this creates a string object within the local function environment\n",
        "  e_p = \"!\"\n",
        "  return greeting + name + e_p"
      ],
      "metadata": {
        "id": "z23v7RggU-sk"
      },
      "execution_count": null,
      "outputs": []
    },
    {
      "cell_type": "code",
      "source": [
        "## now use message 3 to see the result\n",
        "\n",
        "message3 = greet('JJ')"
      ],
      "metadata": {
        "colab": {
          "base_uri": "https://localhost:8080/"
        },
        "id": "4rSn7bUzVlMe",
        "outputId": "0a2dee28-42a5-4994-fae5-147b486657db"
      },
      "execution_count": null,
      "outputs": [
        {
          "output_type": "stream",
          "name": "stdout",
          "text": [
            "Hello, JJ!\n"
          ]
        }
      ]
    },
    {
      "cell_type": "code",
      "source": [
        "print(message3)"
      ],
      "metadata": {
        "colab": {
          "base_uri": "https://localhost:8080/"
        },
        "id": "UCCJ3S7TV1vI",
        "outputId": "1217e0f7-f5e2-4b1d-ecd7-5bf3a989add8"
      },
      "execution_count": null,
      "outputs": [
        {
          "output_type": "stream",
          "name": "stdout",
          "text": [
            "Hello, this is JJ!\n"
          ]
        }
      ]
    },
    {
      "cell_type": "markdown",
      "source": [
        "'return' is a command that any work within the function environment.\n",
        "\n",
        "-> It is the compand the pushes created objects(within the local function environment) to the global python object environment.\n",
        "* After the program reads a return command within a function, it exits the function"
      ],
      "metadata": {
        "id": "KKDpyPcZXMds"
      }
    },
    {
      "cell_type": "markdown",
      "source": [
        "## Objecr References and Pass by value\n",
        "\n",
        "### If an object is created in the global environment and then passed to the local function environment, any changes made to that global object within the function will automatically show up in the global environment as well."
      ],
      "metadata": {
        "id": "AIKUOEFmX0pB"
      }
    },
    {
      "cell_type": "code",
      "source": [
        "## Example\n",
        "\n",
        "numbers = [1, 2, 3]\n",
        "\n",
        "# Now lets create our function that adds the number 4 as a item in the list.\n",
        "def modify_list(my_list):\n",
        "  my_list.append(4) #this is where we add the item to the list.\n",
        "  print(\"Inside the function: \", my_list)"
      ],
      "metadata": {
        "id": "gXDj6-MzYaDk"
      },
      "execution_count": null,
      "outputs": []
    },
    {
      "cell_type": "code",
      "source": [
        "modify_list(numbers)"
      ],
      "metadata": {
        "colab": {
          "base_uri": "https://localhost:8080/"
        },
        "id": "pD5brJL-Y7ga",
        "outputId": "0a0b212c-db87-4082-d4ff-35ffe528aa4f"
      },
      "execution_count": null,
      "outputs": [
        {
          "output_type": "stream",
          "name": "stdout",
          "text": [
            "Inside the function:  [1, 2, 3, 4]\n"
          ]
        }
      ]
    },
    {
      "cell_type": "code",
      "source": [
        "print(numbers) # e \"numbers\" is pointing to the global list object, which now also has the added \"4\" item."
      ],
      "metadata": {
        "colab": {
          "base_uri": "https://localhost:8080/"
        },
        "id": "uNWKsja8Y_AG",
        "outputId": "743a05f8-ce46-4b2b-ecd6-a1e706094581"
      },
      "execution_count": null,
      "outputs": [
        {
          "output_type": "stream",
          "name": "stdout",
          "text": [
            "[1, 2, 3, 4]\n"
          ]
        }
      ]
    },
    {
      "cell_type": "code",
      "source": [
        "### how the function moves from one line of code to the next: automatically.\n",
        "\n",
        "def my_abs(val):\n",
        "  if val < 0: # if it is negative\n",
        "    return -val # # this action turns the negative value, positive.\n",
        "  else:\n",
        "    return val # This line is telling the function to return the given value as it is, if it is a positive value"
      ],
      "metadata": {
        "id": "N73Sna2qaHVW"
      },
      "execution_count": null,
      "outputs": []
    },
    {
      "cell_type": "code",
      "source": [
        "# let's call our function\n",
        "w = my_abs(-30)\n",
        "\n",
        "print(w)"
      ],
      "metadata": {
        "colab": {
          "base_uri": "https://localhost:8080/"
        },
        "id": "WUbSttboaHQg",
        "outputId": "9b97b307-e034-4db1-abe0-c70fb239af2d"
      },
      "execution_count": null,
      "outputs": [
        {
          "output_type": "stream",
          "name": "stdout",
          "text": [
            "30\n"
          ]
        }
      ]
    },
    {
      "cell_type": "code",
      "source": [
        "t = my_abs(-29)\n",
        "print(t)"
      ],
      "metadata": {
        "colab": {
          "base_uri": "https://localhost:8080/"
        },
        "id": "uujJpnXTa2ae",
        "outputId": "66f2efff-8157-42bb-da7c-cb55da0f1c19"
      },
      "execution_count": null,
      "outputs": [
        {
          "output_type": "stream",
          "name": "stdout",
          "text": [
            "29\n"
          ]
        }
      ]
    },
    {
      "cell_type": "code",
      "source": [
        "## what will we see when we don't use the return command within the function\n",
        "\n",
        "def print_Abs(val):\n",
        "  if val < 0:\n",
        "    print(0 - val)\n",
        "  else:\n",
        "    print(val)\n",
        "\n",
        "x = print_Abs(-30)\n",
        "print(x)"
      ],
      "metadata": {
        "colab": {
          "base_uri": "https://localhost:8080/"
        },
        "id": "jMhsP0xcbffS",
        "outputId": "2fd36df6-5e91-4a7c-a99e-a54063e98a1f"
      },
      "execution_count": null,
      "outputs": [
        {
          "output_type": "stream",
          "name": "stdout",
          "text": [
            "30\n",
            "None\n"
          ]
        }
      ]
    },
    {
      "cell_type": "code",
      "source": [
        "###\n",
        "def print_abs(val):\n",
        "  if val < 0:\n",
        "    print(0-val)\n",
        "  else:\n",
        "    print(val)\n",
        "  return 0 - val"
      ],
      "metadata": {
        "id": "c-X8XWuNgUnp"
      },
      "execution_count": null,
      "outputs": []
    },
    {
      "cell_type": "code",
      "source": [
        "x = print_abs(-2.7) #we see the 2.7 because of the print(0-val) command within the"
      ],
      "metadata": {
        "colab": {
          "base_uri": "https://localhost:8080/"
        },
        "id": "cLQwSDpIgdnG",
        "outputId": "15ee72cb-20f7-4803-ca40-8bdbd560fbbc"
      },
      "execution_count": null,
      "outputs": [
        {
          "output_type": "stream",
          "name": "stdout",
          "text": [
            "2.7\n"
          ]
        }
      ]
    },
    {
      "cell_type": "code",
      "source": [
        "print(x) # we see 2.7 here because of the return 0-val command in the function."
      ],
      "metadata": {
        "id": "iiSaNg3Qgq8w"
      },
      "execution_count": null,
      "outputs": []
    },
    {
      "cell_type": "code",
      "source": [
        "print(val) #val only exists within the local function environment. Val does not exist within our grou"
      ],
      "metadata": {
        "colab": {
          "base_uri": "https://localhost:8080/",
          "height": 141
        },
        "id": "bCksQ8FVgw5l",
        "outputId": "1cd9e602-b3cc-4749-f901-7dbeb75f0426"
      },
      "execution_count": null,
      "outputs": [
        {
          "output_type": "error",
          "ename": "NameError",
          "evalue": "name 'val' is not defined",
          "traceback": [
            "\u001b[0;31m---------------------------------------------------------------------------\u001b[0m",
            "\u001b[0;31mNameError\u001b[0m                                 Traceback (most recent call last)",
            "\u001b[0;32m<ipython-input-13-0ae5f94267af>\u001b[0m in \u001b[0;36m<cell line: 1>\u001b[0;34m()\u001b[0m\n\u001b[0;32m----> 1\u001b[0;31m \u001b[0mprint\u001b[0m\u001b[0;34m(\u001b[0m\u001b[0mval\u001b[0m\u001b[0;34m)\u001b[0m \u001b[0;31m#val only exists within the local function environment. Val does not exist within our grou\u001b[0m\u001b[0;34m\u001b[0m\u001b[0;34m\u001b[0m\u001b[0m\n\u001b[0m",
            "\u001b[0;31mNameError\u001b[0m: name 'val' is not defined"
          ]
        }
      ]
    },
    {
      "cell_type": "code",
      "source": [
        "x = 10\n",
        "y = x\n",
        "y is x\n",
        "x = 20\n",
        "print(x, y)"
      ],
      "metadata": {
        "colab": {
          "base_uri": "https://localhost:8080/"
        },
        "id": "RadgAGKRiFAT",
        "outputId": "e70fc199-1eb3-4fd8-f26e-db1ec3d52ed8"
      },
      "execution_count": null,
      "outputs": [
        {
          "output_type": "stream",
          "name": "stdout",
          "text": [
            "20 10\n"
          ]
        }
      ]
    },
    {
      "cell_type": "markdown",
      "source": [
        "###Oct 3, 2024\n",
        "##Functions (Application Examples)"
      ],
      "metadata": {
        "id": "c3TGeRY4onmY"
      }
    },
    {
      "cell_type": "markdown",
      "source": [
        "#### Build the function Step-by Step\n",
        "\n",
        "We know:\n",
        "Function name is update_sales_data Parameters it accepts are:\n",
        "- Sale_datas,\n",
        "- Product_category,\n",
        "- New_sales_amount.\n",
        "\n",
        "We need to check if the product_category already exists in the sales dictionary.\n",
        "-- We can use an if statement to do this.\n",
        "\n",
        "if product_category in sale_data: #this does the checking.\n",
        "\n",
        "-- We then need to write the code for adding the new_sales_amount to the already existing product category value.\n",
        "\n",
        "sales_data[product_category] = sales_data[product_category] + new_sales_data\n",
        "\n",
        "OR\n",
        "\n",
        "sales_data[product_category] += mew_sales_data\n",
        "\n",
        "--- If false: We need to create the new product_category in the dictionary and assign its value\n",
        "  sales_data[product_category] = new_sales_data\n",
        "  #doing this creates the new key-data pair in the given sales_data_dictionary."
      ],
      "metadata": {
        "id": "ef0VjePRo1lK"
      }
    },
    {
      "cell_type": "code",
      "source": [
        "# establish the current sales dictionary based on the info we were given\n",
        "monthly_sales = {'Electronics': 5000,'Clothing':3000}\n",
        "print(monthly_sales)\n",
        "monthly_sales['Electronics']"
      ],
      "metadata": {
        "colab": {
          "base_uri": "https://localhost:8080/"
        },
        "id": "pFc4EK4powNI",
        "outputId": "2be11290-e4f8-4f39-c158-228883fd9e3b"
      },
      "execution_count": 16,
      "outputs": [
        {
          "output_type": "stream",
          "name": "stdout",
          "text": [
            "{'Electronics': 5000, 'Clothing': 3000}\n"
          ]
        },
        {
          "output_type": "execute_result",
          "data": {
            "text/plain": [
              "5000"
            ]
          },
          "metadata": {},
          "execution_count": 16
        }
      ]
    },
    {
      "cell_type": "code",
      "source": [
        "### Now putting all this together, let's build our function.\n",
        "def update_sales_data(sales_data, product_category, new_sales_amount):\n",
        "  # we check if the product already exists.\n",
        "  if product_category in sales_data:\n",
        "    #if true then update\n",
        "    sales_data[product_category] += new_sales_amount\n",
        "    #we are editing an object that already exists in the global environment, so the changes we make here will auto show up in the global env\n",
        "  else:\n",
        "    sales_data[product_category] = new_sales_amount\n",
        ""
      ],
      "metadata": {
        "id": "a4C3IxpQqNLY"
      },
      "execution_count": 20,
      "outputs": []
    },
    {
      "cell_type": "code",
      "source": [
        "## now we can call the function update the sales for Electronics ($2000) and Shoes ($4000)\n",
        "update_sales_data(monthly_sales, 'Electronics', 2000)\n",
        "print(\"Updated Monthly Sales data is\", monthly_sales)\n",
        "update_sales_data(monthly_sales, 'Shoes', 4000)"
      ],
      "metadata": {
        "colab": {
          "base_uri": "https://localhost:8080/"
        },
        "id": "cd3Uqn50s2WS",
        "outputId": "5ee224ab-1ffe-4b59-e0af-85f2f9685ef1"
      },
      "execution_count": 21,
      "outputs": [
        {
          "output_type": "stream",
          "name": "stdout",
          "text": [
            "Updated Monthly Sales data is {'Electronics': 7000, 'Clothing': 3000}\n"
          ]
        }
      ]
    },
    {
      "cell_type": "code",
      "source": [],
      "metadata": {
        "id": "zClhJXRiuDAh"
      },
      "execution_count": null,
      "outputs": []
    }
  ]
}