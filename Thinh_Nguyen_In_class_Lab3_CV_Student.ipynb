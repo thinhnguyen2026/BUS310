{
  "nbformat": 4,
  "nbformat_minor": 0,
  "metadata": {
    "colab": {
      "provenance": [],
      "include_colab_link": true
    },
    "kernelspec": {
      "name": "python3",
      "display_name": "Python 3"
    },
    "language_info": {
      "name": "python"
    }
  },
  "cells": [
    {
      "cell_type": "markdown",
      "metadata": {
        "id": "view-in-github",
        "colab_type": "text"
      },
      "source": [
        "<a href=\"https://colab.research.google.com/github/thinhnguyen2026/BUS310/blob/main/Thinh_Nguyen_In_class_Lab3_CV_Student.ipynb\" target=\"_parent\"><img src=\"https://colab.research.google.com/assets/colab-badge.svg\" alt=\"Open In Colab\"/></a>"
      ]
    },
    {
      "cell_type": "markdown",
      "source": [
        "## **Import libraries**\n"
      ],
      "metadata": {
        "id": "cS8t-iSbvQkn"
      }
    },
    {
      "cell_type": "code",
      "execution_count": 2,
      "metadata": {
        "colab": {
          "base_uri": "https://localhost:8080/"
        },
        "id": "KnJXekJ3vK8w",
        "outputId": "0b09504e-928d-4de8-cbc8-7bf4ad43c4e6"
      },
      "outputs": [
        {
          "output_type": "stream",
          "name": "stdout",
          "text": [
            "Collecting ISLP\n",
            "  Downloading ISLP-0.4.0-py3-none-any.whl.metadata (7.0 kB)\n",
            "Requirement already satisfied: numpy>=1.7.1 in /usr/local/lib/python3.10/dist-packages (from ISLP) (1.26.4)\n",
            "Requirement already satisfied: scipy>=0.9 in /usr/local/lib/python3.10/dist-packages (from ISLP) (1.13.1)\n",
            "Requirement already satisfied: pandas>=0.20 in /usr/local/lib/python3.10/dist-packages (from ISLP) (2.2.2)\n",
            "Requirement already satisfied: lxml in /usr/local/lib/python3.10/dist-packages (from ISLP) (4.9.4)\n",
            "Requirement already satisfied: scikit-learn>=1.2 in /usr/local/lib/python3.10/dist-packages (from ISLP) (1.5.2)\n",
            "Requirement already satisfied: joblib in /usr/local/lib/python3.10/dist-packages (from ISLP) (1.4.2)\n",
            "Requirement already satisfied: statsmodels>=0.13 in /usr/local/lib/python3.10/dist-packages (from ISLP) (0.14.4)\n",
            "Collecting lifelines (from ISLP)\n",
            "  Downloading lifelines-0.29.0-py3-none-any.whl.metadata (3.2 kB)\n",
            "Collecting pygam (from ISLP)\n",
            "  Downloading pygam-0.9.1-py3-none-any.whl.metadata (7.1 kB)\n",
            "Requirement already satisfied: torch in /usr/local/lib/python3.10/dist-packages (from ISLP) (2.4.1+cu121)\n",
            "Collecting pytorch-lightning (from ISLP)\n",
            "  Downloading pytorch_lightning-2.4.0-py3-none-any.whl.metadata (21 kB)\n",
            "Collecting torchmetrics (from ISLP)\n",
            "  Downloading torchmetrics-1.4.2-py3-none-any.whl.metadata (19 kB)\n",
            "Requirement already satisfied: python-dateutil>=2.8.2 in /usr/local/lib/python3.10/dist-packages (from pandas>=0.20->ISLP) (2.8.2)\n",
            "Requirement already satisfied: pytz>=2020.1 in /usr/local/lib/python3.10/dist-packages (from pandas>=0.20->ISLP) (2024.2)\n",
            "Requirement already satisfied: tzdata>=2022.7 in /usr/local/lib/python3.10/dist-packages (from pandas>=0.20->ISLP) (2024.2)\n",
            "Requirement already satisfied: threadpoolctl>=3.1.0 in /usr/local/lib/python3.10/dist-packages (from scikit-learn>=1.2->ISLP) (3.5.0)\n",
            "Requirement already satisfied: patsy>=0.5.6 in /usr/local/lib/python3.10/dist-packages (from statsmodels>=0.13->ISLP) (0.5.6)\n",
            "Requirement already satisfied: packaging>=21.3 in /usr/local/lib/python3.10/dist-packages (from statsmodels>=0.13->ISLP) (24.1)\n",
            "Requirement already satisfied: matplotlib>=3.0 in /usr/local/lib/python3.10/dist-packages (from lifelines->ISLP) (3.7.1)\n",
            "Requirement already satisfied: autograd>=1.5 in /usr/local/lib/python3.10/dist-packages (from lifelines->ISLP) (1.7.0)\n",
            "Collecting autograd-gamma>=0.3 (from lifelines->ISLP)\n",
            "  Downloading autograd-gamma-0.5.0.tar.gz (4.0 kB)\n",
            "  Preparing metadata (setup.py) ... \u001b[?25l\u001b[?25hdone\n",
            "Collecting formulaic>=0.2.2 (from lifelines->ISLP)\n",
            "  Downloading formulaic-1.0.2-py3-none-any.whl.metadata (6.8 kB)\n",
            "Requirement already satisfied: progressbar2<5.0.0,>=4.2.0 in /usr/local/lib/python3.10/dist-packages (from pygam->ISLP) (4.5.0)\n",
            "Collecting scipy>=0.9 (from ISLP)\n",
            "  Downloading scipy-1.11.4-cp310-cp310-manylinux_2_17_x86_64.manylinux2014_x86_64.whl.metadata (60 kB)\n",
            "\u001b[2K     \u001b[90m━━━━━━━━━━━━━━━━━━━━━━━━━━━━━━━━━━━━━━━━\u001b[0m \u001b[32m60.4/60.4 kB\u001b[0m \u001b[31m459.5 kB/s\u001b[0m eta \u001b[36m0:00:00\u001b[0m\n",
            "\u001b[?25hRequirement already satisfied: tqdm>=4.57.0 in /usr/local/lib/python3.10/dist-packages (from pytorch-lightning->ISLP) (4.66.5)\n",
            "Requirement already satisfied: PyYAML>=5.4 in /usr/local/lib/python3.10/dist-packages (from pytorch-lightning->ISLP) (6.0.2)\n",
            "Requirement already satisfied: fsspec>=2022.5.0 in /usr/local/lib/python3.10/dist-packages (from fsspec[http]>=2022.5.0->pytorch-lightning->ISLP) (2024.6.1)\n",
            "Requirement already satisfied: typing-extensions>=4.4.0 in /usr/local/lib/python3.10/dist-packages (from pytorch-lightning->ISLP) (4.12.2)\n",
            "Collecting lightning-utilities>=0.10.0 (from pytorch-lightning->ISLP)\n",
            "  Downloading lightning_utilities-0.11.7-py3-none-any.whl.metadata (5.2 kB)\n",
            "Requirement already satisfied: filelock in /usr/local/lib/python3.10/dist-packages (from torch->ISLP) (3.16.1)\n",
            "Requirement already satisfied: sympy in /usr/local/lib/python3.10/dist-packages (from torch->ISLP) (1.13.3)\n",
            "Requirement already satisfied: networkx in /usr/local/lib/python3.10/dist-packages (from torch->ISLP) (3.3)\n",
            "Requirement already satisfied: jinja2 in /usr/local/lib/python3.10/dist-packages (from torch->ISLP) (3.1.4)\n",
            "Collecting interface-meta>=1.2.0 (from formulaic>=0.2.2->lifelines->ISLP)\n",
            "  Downloading interface_meta-1.3.0-py3-none-any.whl.metadata (6.7 kB)\n",
            "Requirement already satisfied: wrapt>=1.0 in /usr/local/lib/python3.10/dist-packages (from formulaic>=0.2.2->lifelines->ISLP) (1.16.0)\n",
            "Requirement already satisfied: aiohttp!=4.0.0a0,!=4.0.0a1 in /usr/local/lib/python3.10/dist-packages (from fsspec[http]>=2022.5.0->pytorch-lightning->ISLP) (3.10.8)\n",
            "Requirement already satisfied: setuptools in /usr/local/lib/python3.10/dist-packages (from lightning-utilities>=0.10.0->pytorch-lightning->ISLP) (71.0.4)\n",
            "Requirement already satisfied: contourpy>=1.0.1 in /usr/local/lib/python3.10/dist-packages (from matplotlib>=3.0->lifelines->ISLP) (1.3.0)\n",
            "Requirement already satisfied: cycler>=0.10 in /usr/local/lib/python3.10/dist-packages (from matplotlib>=3.0->lifelines->ISLP) (0.12.1)\n",
            "Requirement already satisfied: fonttools>=4.22.0 in /usr/local/lib/python3.10/dist-packages (from matplotlib>=3.0->lifelines->ISLP) (4.54.1)\n",
            "Requirement already satisfied: kiwisolver>=1.0.1 in /usr/local/lib/python3.10/dist-packages (from matplotlib>=3.0->lifelines->ISLP) (1.4.7)\n",
            "Requirement already satisfied: pillow>=6.2.0 in /usr/local/lib/python3.10/dist-packages (from matplotlib>=3.0->lifelines->ISLP) (10.4.0)\n",
            "Requirement already satisfied: pyparsing>=2.3.1 in /usr/local/lib/python3.10/dist-packages (from matplotlib>=3.0->lifelines->ISLP) (3.1.4)\n",
            "Requirement already satisfied: six in /usr/local/lib/python3.10/dist-packages (from patsy>=0.5.6->statsmodels>=0.13->ISLP) (1.16.0)\n",
            "Requirement already satisfied: python-utils>=3.8.1 in /usr/local/lib/python3.10/dist-packages (from progressbar2<5.0.0,>=4.2.0->pygam->ISLP) (3.9.0)\n",
            "Requirement already satisfied: MarkupSafe>=2.0 in /usr/local/lib/python3.10/dist-packages (from jinja2->torch->ISLP) (2.1.5)\n",
            "Requirement already satisfied: mpmath<1.4,>=1.1.0 in /usr/local/lib/python3.10/dist-packages (from sympy->torch->ISLP) (1.3.0)\n",
            "Requirement already satisfied: aiohappyeyeballs>=2.3.0 in /usr/local/lib/python3.10/dist-packages (from aiohttp!=4.0.0a0,!=4.0.0a1->fsspec[http]>=2022.5.0->pytorch-lightning->ISLP) (2.4.3)\n",
            "Requirement already satisfied: aiosignal>=1.1.2 in /usr/local/lib/python3.10/dist-packages (from aiohttp!=4.0.0a0,!=4.0.0a1->fsspec[http]>=2022.5.0->pytorch-lightning->ISLP) (1.3.1)\n",
            "Requirement already satisfied: attrs>=17.3.0 in /usr/local/lib/python3.10/dist-packages (from aiohttp!=4.0.0a0,!=4.0.0a1->fsspec[http]>=2022.5.0->pytorch-lightning->ISLP) (24.2.0)\n",
            "Requirement already satisfied: frozenlist>=1.1.1 in /usr/local/lib/python3.10/dist-packages (from aiohttp!=4.0.0a0,!=4.0.0a1->fsspec[http]>=2022.5.0->pytorch-lightning->ISLP) (1.4.1)\n",
            "Requirement already satisfied: multidict<7.0,>=4.5 in /usr/local/lib/python3.10/dist-packages (from aiohttp!=4.0.0a0,!=4.0.0a1->fsspec[http]>=2022.5.0->pytorch-lightning->ISLP) (6.1.0)\n",
            "Requirement already satisfied: yarl<2.0,>=1.12.0 in /usr/local/lib/python3.10/dist-packages (from aiohttp!=4.0.0a0,!=4.0.0a1->fsspec[http]>=2022.5.0->pytorch-lightning->ISLP) (1.13.1)\n",
            "Requirement already satisfied: async-timeout<5.0,>=4.0 in /usr/local/lib/python3.10/dist-packages (from aiohttp!=4.0.0a0,!=4.0.0a1->fsspec[http]>=2022.5.0->pytorch-lightning->ISLP) (4.0.3)\n",
            "Requirement already satisfied: idna>=2.0 in /usr/local/lib/python3.10/dist-packages (from yarl<2.0,>=1.12.0->aiohttp!=4.0.0a0,!=4.0.0a1->fsspec[http]>=2022.5.0->pytorch-lightning->ISLP) (3.10)\n",
            "Downloading ISLP-0.4.0-py3-none-any.whl (3.6 MB)\n",
            "\u001b[2K   \u001b[90m━━━━━━━━━━━━━━━━━━━━━━━━━━━━━━━━━━━━━━━━\u001b[0m \u001b[32m3.6/3.6 MB\u001b[0m \u001b[31m29.7 MB/s\u001b[0m eta \u001b[36m0:00:00\u001b[0m\n",
            "\u001b[?25hDownloading lifelines-0.29.0-py3-none-any.whl (349 kB)\n",
            "\u001b[2K   \u001b[90m━━━━━━━━━━━━━━━━━━━━━━━━━━━━━━━━━━━━━━━━\u001b[0m \u001b[32m349.3/349.3 kB\u001b[0m \u001b[31m13.6 MB/s\u001b[0m eta \u001b[36m0:00:00\u001b[0m\n",
            "\u001b[?25hDownloading pygam-0.9.1-py3-none-any.whl (522 kB)\n",
            "\u001b[2K   \u001b[90m━━━━━━━━━━━━━━━━━━━━━━━━━━━━━━━━━━━━━━━━\u001b[0m \u001b[32m522.0/522.0 kB\u001b[0m \u001b[31m19.7 MB/s\u001b[0m eta \u001b[36m0:00:00\u001b[0m\n",
            "\u001b[?25hDownloading scipy-1.11.4-cp310-cp310-manylinux_2_17_x86_64.manylinux2014_x86_64.whl (36.4 MB)\n",
            "\u001b[2K   \u001b[90m━━━━━━━━━━━━━━━━━━━━━━━━━━━━━━━━━━━━━━━━\u001b[0m \u001b[32m36.4/36.4 MB\u001b[0m \u001b[31m9.4 MB/s\u001b[0m eta \u001b[36m0:00:00\u001b[0m\n",
            "\u001b[?25hDownloading pytorch_lightning-2.4.0-py3-none-any.whl (815 kB)\n",
            "\u001b[2K   \u001b[90m━━━━━━━━━━━━━━━━━━━━━━━━━━━━━━━━━━━━━━━━\u001b[0m \u001b[32m815.2/815.2 kB\u001b[0m \u001b[31m19.7 MB/s\u001b[0m eta \u001b[36m0:00:00\u001b[0m\n",
            "\u001b[?25hDownloading torchmetrics-1.4.2-py3-none-any.whl (869 kB)\n",
            "\u001b[2K   \u001b[90m━━━━━━━━━━━━━━━━━━━━━━━━━━━━━━━━━━━━━━━━\u001b[0m \u001b[32m869.2/869.2 kB\u001b[0m \u001b[31m15.3 MB/s\u001b[0m eta \u001b[36m0:00:00\u001b[0m\n",
            "\u001b[?25hDownloading formulaic-1.0.2-py3-none-any.whl (94 kB)\n",
            "\u001b[2K   \u001b[90m━━━━━━━━━━━━━━━━━━━━━━━━━━━━━━━━━━━━━━━━\u001b[0m \u001b[32m94.5/94.5 kB\u001b[0m \u001b[31m4.9 MB/s\u001b[0m eta \u001b[36m0:00:00\u001b[0m\n",
            "\u001b[?25hDownloading lightning_utilities-0.11.7-py3-none-any.whl (26 kB)\n",
            "Downloading interface_meta-1.3.0-py3-none-any.whl (14 kB)\n",
            "Building wheels for collected packages: autograd-gamma\n",
            "  Building wheel for autograd-gamma (setup.py) ... \u001b[?25l\u001b[?25hdone\n",
            "  Created wheel for autograd-gamma: filename=autograd_gamma-0.5.0-py3-none-any.whl size=4031 sha256=37d0ce07b343af95fac288a32e45b3d8268a777677f824137d5cf95386e7f3ee\n",
            "  Stored in directory: /root/.cache/pip/wheels/25/cc/e0/ef2969164144c899fedb22b338f6703e2b9cf46eeebf254991\n",
            "Successfully built autograd-gamma\n",
            "Installing collected packages: scipy, lightning-utilities, interface-meta, autograd-gamma, torchmetrics, pygam, formulaic, lifelines, pytorch-lightning, ISLP\n",
            "  Attempting uninstall: scipy\n",
            "    Found existing installation: scipy 1.13.1\n",
            "    Uninstalling scipy-1.13.1:\n",
            "      Successfully uninstalled scipy-1.13.1\n",
            "Successfully installed ISLP-0.4.0 autograd-gamma-0.5.0 formulaic-1.0.2 interface-meta-1.3.0 lifelines-0.29.0 lightning-utilities-0.11.7 pygam-0.9.1 pytorch-lightning-2.4.0 scipy-1.11.4 torchmetrics-1.4.2\n"
          ]
        }
      ],
      "source": [
        "import numpy as np\n",
        "import statsmodels.api as sm\n",
        "import matplotlib.pyplot as plt\n",
        "!pip install ISLP\n",
        "from ISLP import load_data\n",
        "from ISLP.models import (ModelSpec as MS,\n",
        "                         summarize,\n",
        "                         poly)\n",
        "from sklearn.model_selection import train_test_split\n",
        "from functools import partial\n",
        "from sklearn.model_selection import \\\n",
        "     (cross_validate,\n",
        "      KFold,\n",
        "      ShuffleSplit)\n",
        "from sklearn.base import clone\n",
        "from ISLP.models import sklearn_sm"
      ]
    },
    {
      "cell_type": "markdown",
      "source": [
        "## **Load data**"
      ],
      "metadata": {
        "id": "M--HtotQvjXa"
      }
    },
    {
      "cell_type": "code",
      "source": [
        "Auto = load_data('Auto')\n",
        "print(Auto)"
      ],
      "metadata": {
        "colab": {
          "base_uri": "https://localhost:8080/"
        },
        "id": "2byrm0zivkoJ",
        "outputId": "c8151790-2396-4ff0-d771-1237452192d4"
      },
      "execution_count": 3,
      "outputs": [
        {
          "output_type": "stream",
          "name": "stdout",
          "text": [
            "                            mpg  cylinders  displacement  horsepower  weight  \\\n",
            "name                                                                           \n",
            "chevrolet chevelle malibu  18.0          8         307.0         130    3504   \n",
            "buick skylark 320          15.0          8         350.0         165    3693   \n",
            "plymouth satellite         18.0          8         318.0         150    3436   \n",
            "amc rebel sst              16.0          8         304.0         150    3433   \n",
            "ford torino                17.0          8         302.0         140    3449   \n",
            "...                         ...        ...           ...         ...     ...   \n",
            "ford mustang gl            27.0          4         140.0          86    2790   \n",
            "vw pickup                  44.0          4          97.0          52    2130   \n",
            "dodge rampage              32.0          4         135.0          84    2295   \n",
            "ford ranger                28.0          4         120.0          79    2625   \n",
            "chevy s-10                 31.0          4         119.0          82    2720   \n",
            "\n",
            "                           acceleration  year  origin  \n",
            "name                                                   \n",
            "chevrolet chevelle malibu          12.0    70       1  \n",
            "buick skylark 320                  11.5    70       1  \n",
            "plymouth satellite                 11.0    70       1  \n",
            "amc rebel sst                      12.0    70       1  \n",
            "ford torino                        10.5    70       1  \n",
            "...                                 ...   ...     ...  \n",
            "ford mustang gl                    15.6    82       1  \n",
            "vw pickup                          24.6    82       2  \n",
            "dodge rampage                      11.6    82       1  \n",
            "ford ranger                        18.6    82       1  \n",
            "chevy s-10                         19.4    82       1  \n",
            "\n",
            "[392 rows x 8 columns]\n"
          ]
        }
      ]
    },
    {
      "cell_type": "code",
      "source": [
        "plt.scatter(Auto['horsepower'], Auto['mpg'], color='blue', label='Data points')"
      ],
      "metadata": {
        "colab": {
          "base_uri": "https://localhost:8080/",
          "height": 448
        },
        "id": "DIhV-22PZ_i6",
        "outputId": "497d7513-9a03-4bbc-ecb7-cc134aa320d8"
      },
      "execution_count": 4,
      "outputs": [
        {
          "output_type": "execute_result",
          "data": {
            "text/plain": [
              "<matplotlib.collections.PathCollection at 0x7ff1be8d5090>"
            ]
          },
          "metadata": {},
          "execution_count": 4
        },
        {
          "output_type": "display_data",
          "data": {
            "text/plain": [
              "<Figure size 640x480 with 1 Axes>"
            ],
            "image/png": "[encoded data removed]"
          },
          "metadata": {}
        }
      ]
    },
    {
      "cell_type": "code",
      "source": [
        "Auto_sorted = Auto.sort_values(by='horsepower')\n",
        "\n",
        "# Fitting a linear model\n",
        "coeffs_linear = np.polyfit(Auto_sorted['horsepower'], Auto_sorted['mpg'], 1)\n",
        "linear_fit = np.polyval(coeffs_linear, Auto_sorted['horsepower'])\n",
        "\n",
        "# Fitting a quadratic model\n",
        "coeffs_quadratic = np.polyfit(Auto_sorted['horsepower'], Auto_sorted['mpg'], 2)\n",
        "quadratic_fit = np.polyval(coeffs_quadratic, Auto_sorted['horsepower'])\n",
        "\n",
        "# Scatter plot\n",
        "plt.figure(figsize=(8,6))\n",
        "plt.scatter(Auto['horsepower'], Auto['mpg'], alpha=0.7,label='Data')\n",
        "\n",
        "# Make a linear fit\n",
        "plt.plot(Auto_sorted['horsepower'], linear_fit, color='red', label='Linear Fit')\n",
        "\n",
        "# Make a quadratic fit\n",
        "plt.plot(Auto_sorted['horsepower'], quadratic_fit, color='green', label='Quadratic Fit')\n",
        "\n",
        "# Set labels and title\n",
        "plt.title('Scatter Plot of MPG vs Horsepower with Linear and Quadratic Fits')\n",
        "plt.xlabel('Horsepower')\n",
        "plt.ylabel('MPG')\n",
        "plt.legend()\n",
        "plt.grid(True)\n",
        "plt.show()\n"
      ],
      "metadata": {
        "colab": {
          "base_uri": "https://localhost:8080/",
          "height": 564
        },
        "id": "4y2tmtszbxmy",
        "outputId": "ac7a0a35-6645-4e08-f778-5867cbd84019"
      },
      "execution_count": 10,
      "outputs": [
        {
          "output_type": "display_data",
          "data": {
            "text/plain": [
              "<Figure size 800x600 with 1 Axes>"
            ],
            "image/png": "[encoded data removed]"
          },
          "metadata": {}
        }
      ]
    },
    {
      "cell_type": "markdown",
      "source": [
        "## **Data Split**"
      ],
      "metadata": {
        "id": "zVcXKv9Ev3P1"
      }
    },
    {
      "cell_type": "markdown",
      "source": [],
      "metadata": {
        "id": "l7Jf5vD8mZHR"
      }
    },
    {
      "cell_type": "code",
      "source": [
        "# This part of code generate the train and test set\n",
        "Auto_train, Auto_test = train_test_split(Auto,\n",
        "                                         test_size=196,\n",
        "                                         random_state=0)  #set random_state can ensure the split will be the same everytime you run the code#\n"
      ],
      "metadata": {
        "id": "KWrX15T6v41i"
      },
      "execution_count": 6,
      "outputs": []
    },
    {
      "cell_type": "markdown",
      "source": [
        "## **Fit the PLS on the training**\n",
        "\n",
        "\n"
      ],
      "metadata": {
        "id": "ifdyRfu0bdmh"
      }
    },
    {
      "cell_type": "code",
      "source": [
        "# Run linear regression on the training set\n",
        "X_train = MS(['horsepower']).fit_transform(Auto_train)\n",
        "y_train = Auto_train['mpg']  # Dependent variable (mpg)\n",
        "model = sm.OLS(y_train, X_train)\n",
        "results = model.fit()\n",
        "print(results.summary())"
      ],
      "metadata": {
        "colab": {
          "base_uri": "https://localhost:8080/"
        },
        "id": "gDKR4iVfcppm",
        "outputId": "5224dfd5-a9ef-4a8b-9009-266548337447"
      },
      "execution_count": 12,
      "outputs": [
        {
          "output_type": "stream",
          "name": "stdout",
          "text": [
            "                            OLS Regression Results                            \n",
            "==============================================================================\n",
            "Dep. Variable:                    mpg   R-squared:                       0.608\n",
            "Model:                            OLS   Adj. R-squared:                  0.606\n",
            "Method:                 Least Squares   F-statistic:                     300.4\n",
            "Date:                Tue, 08 Oct 2024   Prob (F-statistic):           2.83e-41\n",
            "Time:                        00:02:32   Log-Likelihood:                -590.83\n",
            "No. Observations:                 196   AIC:                             1186.\n",
            "Df Residuals:                     194   BIC:                             1192.\n",
            "Df Model:                           1                                         \n",
            "Covariance Type:            nonrobust                                         \n",
            "==============================================================================\n",
            "                 coef    std err          t      P>|t|      [0.025      0.975]\n",
            "------------------------------------------------------------------------------\n",
            "intercept     39.9055      1.009     39.537      0.000      37.915      41.896\n",
            "horsepower    -0.1563      0.009    -17.333      0.000      -0.174      -0.139\n",
            "==============================================================================\n",
            "Omnibus:                        7.263   Durbin-Watson:                   2.175\n",
            "Prob(Omnibus):                  0.026   Jarque-Bera (JB):                6.993\n",
            "Skew:                           0.440   Prob(JB):                       0.0303\n",
            "Kurtosis:                       3.286   Cond. No.                         319.\n",
            "==============================================================================\n",
            "\n",
            "Notes:\n",
            "[1] Standard Errors assume that the covariance matrix of the errors is correctly specified.\n"
          ]
        }
      ]
    },
    {
      "cell_type": "markdown",
      "source": [
        "## **Evaluate the model on test set**"
      ],
      "metadata": {
        "id": "4Dxc2l5WeMer"
      }
    },
    {
      "cell_type": "code",
      "source": [
        "x_test = MS(['horsepower']).fit_transform(Auto_test)\n",
        "y_test = Auto_test['mpg']\n",
        "test_pred = results.predict(x_test)\n"
      ],
      "metadata": {
        "id": "W6sEaxJvdDTV"
      },
      "execution_count": 13,
      "outputs": []
    },
    {
      "cell_type": "markdown",
      "source": [
        "## **Compute the MSE**"
      ],
      "metadata": {
        "id": "HLR5pGPZcWxA"
      }
    },
    {
      "cell_type": "code",
      "source": [
        "MSE = np.mean((y_test - test_pred)**2)\n",
        "print(MSE)"
      ],
      "metadata": {
        "colab": {
          "base_uri": "https://localhost:8080/"
        },
        "id": "BxsMueQhcWgG",
        "outputId": "33bca5ac-4e65-4264-bed6-53a1aa7d0dfd"
      },
      "execution_count": 14,
      "outputs": [
        {
          "output_type": "stream",
          "name": "stdout",
          "text": [
            "23.61661706966988\n"
          ]
        }
      ]
    },
    {
      "cell_type": "markdown",
      "source": [
        "## **Pick the order of polynomial**"
      ],
      "metadata": {
        "id": "MHkipkgkc_s5"
      }
    },
    {
      "cell_type": "code",
      "source": [
        "Auto_train, Auto_test = train_test_split(Auto,\n",
        "                                         test_size=196,\n",
        "                                         random_state=0)"
      ],
      "metadata": {
        "id": "qKJQPF5ZdOsy"
      },
      "execution_count": 15,
      "outputs": []
    },
    {
      "cell_type": "markdown",
      "source": [
        "## **Loop for polynomial generation**\n"
      ],
      "metadata": {
        "id": "CWVlKuoLvnWs"
      }
    },
    {
      "cell_type": "code",
      "source": [
        "def evalMSE(terms,\n",
        "            response,\n",
        "            train,\n",
        "            test):\n",
        "\n",
        "   mm = MS(terms)\n",
        "   X_train = mm.fit_transform(train)\n",
        "   y_train = train[response]\n",
        "\n",
        "   X_test = mm.transform(test)\n",
        "   y_test = test[response]\n",
        "\n",
        "   results = sm.OLS(y_train, X_train).fit()\n",
        "   test_pred = results.predict(X_test)\n",
        "\n",
        "   return np.mean((y_test - test_pred)**2)"
      ],
      "metadata": {
        "id": "AFs-o5_uvsYN"
      },
      "execution_count": 16,
      "outputs": []
    },
    {
      "cell_type": "markdown",
      "source": [],
      "metadata": {
        "id": "QwMVidjLnDxF"
      }
    },
    {
      "cell_type": "code",
      "source": [
        "H = np.array(Auto['horsepower'])\n",
        "M = sklearn_sm(sm.OLS)\n",
        "MSE=np.zeros(3)\n",
        "for idx, degree in enumerate(range(1,4)):\n",
        "    X=np.power.outer(H, np.arange(degree+1))\n",
        "    MSE[idx] = evalMSE([poly('horsepower', degree)],\n",
        "                       'mpg',\n",
        "                       Auto_train,\n",
        "                       Auto_test)\n",
        "MSE\n"
      ],
      "metadata": {
        "colab": {
          "base_uri": "https://localhost:8080/"
        },
        "id": "6XMpjhjxvxGg",
        "outputId": "9b5d46a0-3949-4bbe-9462-ff8568bbadc3"
      },
      "execution_count": 17,
      "outputs": [
        {
          "output_type": "execute_result",
          "data": {
            "text/plain": [
              "array([23.61661707, 18.76303135, 18.79694163])"
            ]
          },
          "metadata": {},
          "execution_count": 17
        }
      ]
    },
    {
      "cell_type": "markdown",
      "source": [
        "# Answer question \"Compare the MSE. Which functional form is the best?\"\n",
        "\n",
        "## The quadratic form is the  best as it has the smalles MSE = 18.76"
      ],
      "metadata": {
        "id": "c91FJClPmwHL"
      }
    },
    {
      "cell_type": "markdown",
      "source": [
        "## **The results shows an improvement for quadratic form**"
      ],
      "metadata": {
        "id": "GUChJczOdNCk"
      }
    },
    {
      "cell_type": "code",
      "source": [
        "#range[1, 4] generates a sequence of numbers starting from and going up to\n",
        "#but not including, 4. So the loop will iterate over the values 1, 2, and 3.\n",
        "MSE = np.zeros(3)\n",
        "for idx, degree in enumerate(range(1,4)):\n",
        "    MSE[idx] = evalMSE([poly('horsepower', degree)],\n",
        "                       'mpg',\n",
        "                       Auto_train,\n",
        "                       Auto_test)\n",
        "MSE"
      ],
      "metadata": {
        "colab": {
          "base_uri": "https://localhost:8080/"
        },
        "id": "E0vyh63xdjZQ",
        "outputId": "d7e67c84-b389-4121-f6f0-57dcd4d2a6a3"
      },
      "execution_count": 35,
      "outputs": [
        {
          "output_type": "execute_result",
          "data": {
            "text/plain": [
              "array([23.44264397, 18.5501988 , 18.59522229])"
            ]
          },
          "metadata": {},
          "execution_count": 35
        }
      ]
    },
    {
      "cell_type": "code",
      "source": [
        "H = np.array(Auto['horsepower'])\n",
        "M = sklearn_sm(sm.OLS)\n",
        "Auto_train, Auto_test = train_test_split(Auto,\n",
        "                                         test_size=196,\n",
        "                                         random_state=2)\n",
        "\n",
        "#range(1, 4) generates a sequence of numbers starting from 1 and going up to"
      ],
      "metadata": {
        "id": "nOKUJLw4eHCh"
      },
      "execution_count": 34,
      "outputs": []
    },
    {
      "cell_type": "markdown",
      "source": [
        "## **2. Cross Validation**"
      ],
      "metadata": {
        "id": "Ns4YGoxzecPE"
      }
    },
    {
      "cell_type": "markdown",
      "source": [
        "n-fold Cross-Validation (LOOCV)"
      ],
      "metadata": {
        "id": "sTP2PyfZef2E"
      }
    },
    {
      "cell_type": "code",
      "source": [
        "hp_model = sklearn_sm(sm.OLS, MS(['horsepower']))\n",
        "\n",
        "# Auto.shape[0] gives the number of observation of the data\n",
        "X,Y = MS(['horsepower']).fit_transform(Auto), Auto['mpg']\n",
        "cv_results = cross_validate(hp_model,\n",
        "                            X,\n",
        "                            Y,\n",
        "                            cv=Auto.shape[0]) #n fold cross vallidation\n",
        "print(cv_results)"
      ],
      "metadata": {
        "id": "mw_51vIMgjrH",
        "colab": {
          "base_uri": "https://localhost:8080/"
        },
        "outputId": "04eeed53-5f0f-4ae8-f0c8-00301055fd94"
      },
      "execution_count": 22,
      "outputs": [
        {
          "output_type": "stream",
          "name": "stdout",
          "text": [
            "{'fit_time': array([0.02056813, 0.01110244, 0.01471019, 0.0088141 , 0.04025364,\n",
            "       0.01474142, 0.01557541, 0.02149391, 0.01670551, 0.01504636,\n",
            "       0.01434016, 0.01574755, 0.01463461, 0.01468945, 0.01973391,\n",
            "       0.0067904 , 0.00725698, 0.00707722, 0.00654936, 0.00664091,\n",
            "       0.00664043, 0.00667262, 0.00665832, 0.00656295, 0.00720882,\n",
            "       0.0067699 , 0.00686526, 0.00675201, 0.00676513, 0.00687861,\n",
            "       0.00660372, 0.00707793, 0.00674582, 0.00705123, 0.00777173,\n",
            "       0.00738811, 0.00722861, 0.00722289, 0.00679564, 0.00678444,\n",
            "       0.00706577, 0.00679898, 0.00982022, 0.00693679, 0.00730515,\n",
            "       0.00690007, 0.0066731 , 0.00681543, 0.01530695, 0.00731707,\n",
            "       0.00714445, 0.00716639, 0.00815964, 0.0077734 , 0.00738549,\n",
            "       0.00718689, 0.00718522, 0.00741696, 0.00777078, 0.00745583,\n",
            "       0.00770283, 0.00740838, 0.00730085, 0.00734186, 0.0074532 ,\n",
            "       0.00713563, 0.00726509, 0.00810194, 0.00782228, 0.00689292,\n",
            "       0.00593615, 0.00448132, 0.00450945, 0.00450921, 0.00445247,\n",
            "       0.00580359, 0.00456405, 0.00447345, 0.00453973, 0.00459576,\n",
            "       0.00449681, 0.00445151, 0.00464106, 0.00705647, 0.00630021,\n",
            "       0.00683856, 0.00713277, 0.00776362, 0.00637698, 0.00478315,\n",
            "       0.0046134 , 0.00456905, 0.00480914, 0.00447989, 0.00513482,\n",
            "       0.00543904, 0.00436378, 0.0046196 , 0.00455356, 0.00482011,\n",
            "       0.00460196, 0.00456715, 0.00468493, 0.00479221, 0.00478005,\n",
            "       0.00444531, 0.00444007, 0.00439882, 0.00446367, 0.00484419,\n",
            "       0.00487232, 0.00440335, 0.00444245, 0.00454497, 0.00460005,\n",
            "       0.00447845, 0.00502372, 0.0047977 , 0.004668  , 0.00453544,\n",
            "       0.00444508, 0.00492263, 0.00440025, 0.00442076, 0.00435185,\n",
            "       0.00470209, 0.00442362, 0.00444388, 0.00431895, 0.00430655,\n",
            "       0.00434566, 0.00430751, 0.00426793, 0.00445652, 0.00468993,\n",
            "       0.00438118, 0.00434422, 0.0046289 , 0.00471163, 0.00511646,\n",
            "       0.00443482, 0.00455523, 0.00442839, 0.00452733, 0.00449514,\n",
            "       0.00442696, 0.00427699, 0.00435567, 0.00452113, 0.00452709,\n",
            "       0.00474787, 0.00456905, 0.00534868, 0.00482917, 0.0045836 ,\n",
            "       0.00471187, 0.00470805, 0.00467539, 0.00576711, 0.00466013,\n",
            "       0.0046711 , 0.00454426, 0.00506926, 0.00450706, 0.00462556,\n",
            "       0.00460315, 0.00466299, 0.0051024 , 0.00451016, 0.00458074,\n",
            "       0.00554085, 0.00492859, 0.00500894, 0.00475264, 0.00440407,\n",
            "       0.00438166, 0.00429797, 0.00448513, 0.00507116, 0.00450492,\n",
            "       0.0051322 , 0.00515866, 0.00495267, 0.00482869, 0.00460911,\n",
            "       0.00472069, 0.00452971, 0.00478029, 0.00448346, 0.00456023,\n",
            "       0.00441837, 0.00480461, 0.00455284, 0.0061481 , 0.00679946,\n",
            "       0.00667787, 0.00628114, 0.00607514, 0.00867033, 0.0050354 ,\n",
            "       0.00448561, 0.00525188, 0.00465465, 0.00496149, 0.00671268,\n",
            "       0.00455427, 0.00455976, 0.00449944, 0.00448155, 0.0052402 ,\n",
            "       0.00459695, 0.00441909, 0.00490117, 0.00464106, 0.0045948 ,\n",
            "       0.00491929, 0.00840759, 0.0061965 , 0.0048964 , 0.00591612,\n",
            "       0.00491953, 0.00458574, 0.0057292 , 0.00773501, 0.00740099,\n",
            "       0.00495887, 0.00451541, 0.00484109, 0.00453687, 0.00452352,\n",
            "       0.00449371, 0.00566244, 0.00488091, 0.00504065, 0.00553179,\n",
            "       0.0045743 , 0.00593305, 0.00467491, 0.00447845, 0.00438857,\n",
            "       0.00499392, 0.00446224, 0.00481892, 0.00455236, 0.00442576,\n",
            "       0.00504851, 0.00438309, 0.00440454, 0.00448203, 0.00429344,\n",
            "       0.00425482, 0.00437784, 0.00443363, 0.00498676, 0.00517464,\n",
            "       0.00606918, 0.00568557, 0.00460768, 0.00525022, 0.00468326,\n",
            "       0.00450158, 0.00448275, 0.00459671, 0.00438547, 0.00459099,\n",
            "       0.0048151 , 0.00436187, 0.00450563, 0.00469041, 0.00585675,\n",
            "       0.00466156, 0.00447726, 0.00487614, 0.00454187, 0.00491667,\n",
            "       0.00491118, 0.00474453, 0.00640059, 0.00456262, 0.0061214 ,\n",
            "       0.00558996, 0.00578141, 0.00687742, 0.00473213, 0.00673103,\n",
            "       0.00469112, 0.00570846, 0.00524902, 0.00570226, 0.00476956,\n",
            "       0.00606966, 0.00665045, 0.00472426, 0.00659585, 0.00522017,\n",
            "       0.0054884 , 0.00693536, 0.00625396, 0.00641084, 0.0050168 ,\n",
            "       0.0052073 , 0.00495553, 0.00608778, 0.00522065, 0.00575876,\n",
            "       0.00603151, 0.0045948 , 0.00448966, 0.00496197, 0.00468588,\n",
            "       0.00453591, 0.00446701, 0.00492382, 0.00605989, 0.00659585,\n",
            "       0.00638175, 0.00576329, 0.00666094, 0.00911307, 0.00782108,\n",
            "       0.00693989, 0.00808001, 0.00833321, 0.00642896, 0.00629282,\n",
            "       0.00454473, 0.00570536, 0.00520921, 0.00645232, 0.00514054,\n",
            "       0.00620747, 0.00529814, 0.00462151, 0.00473809, 0.00448561,\n",
            "       0.00445032, 0.00472951, 0.00675297, 0.00974178, 0.00535011,\n",
            "       0.00618935, 0.00465941, 0.00559902, 0.00565028, 0.00480437,\n",
            "       0.00461197, 0.00492692, 0.00695038, 0.00693178, 0.00684381,\n",
            "       0.00612283, 0.00716519, 0.00478005, 0.00455356, 0.00505066,\n",
            "       0.00456786, 0.00485682, 0.00509715, 0.00440097, 0.00446033,\n",
            "       0.00438976, 0.00659537, 0.00618792, 0.00498533, 0.00552464,\n",
            "       0.00489831, 0.00668311, 0.00492907, 0.00493693, 0.00498629,\n",
            "       0.00464082, 0.00514627, 0.00491714, 0.00513911, 0.00476265,\n",
            "       0.00545502, 0.00475883, 0.00462246, 0.00465775, 0.00634313,\n",
            "       0.00461793, 0.00550246, 0.0050149 , 0.00461936, 0.00459027,\n",
            "       0.00436139, 0.00670218, 0.00467515, 0.00542808, 0.00667   ,\n",
            "       0.00465679, 0.00451207]), 'score_time': array([0.00339484, 0.01864696, 0.00301838, 0.00940895, 0.0036931 ,\n",
            "       0.01063061, 0.00706744, 0.00401211, 0.01049733, 0.0086658 ,\n",
            "       0.01163006, 0.00857878, 0.00314593, 0.00375175, 0.00340557,\n",
            "       0.00295234, 0.00306225, 0.00301456, 0.00284004, 0.00299835,\n",
            "       0.00291419, 0.00292087, 0.0028863 , 0.00569606, 0.00324583,\n",
            "       0.00295949, 0.00288105, 0.00295377, 0.00287223, 0.00288844,\n",
            "       0.00292492, 0.00310469, 0.00293398, 0.00301647, 0.00311375,\n",
            "       0.00304651, 0.00302267, 0.00301838, 0.00294948, 0.00300622,\n",
            "       0.003124  , 0.00299168, 0.003299  , 0.00330091, 0.00888252,\n",
            "       0.00300789, 0.00293279, 0.00297594, 0.0036087 , 0.00394416,\n",
            "       0.00308681, 0.00348353, 0.00331855, 0.00332999, 0.00326324,\n",
            "       0.00315237, 0.00305605, 0.00321531, 0.00337934, 0.00315833,\n",
            "       0.00332165, 0.00344396, 0.00319076, 0.00311232, 0.00322556,\n",
            "       0.00323606, 0.00320101, 0.0033617 , 0.00310397, 0.00289989,\n",
            "       0.00220275, 0.00199676, 0.00202417, 0.00211048, 0.00196576,\n",
            "       0.00207901, 0.00199246, 0.00203776, 0.00204206, 0.00207448,\n",
            "       0.00202894, 0.00241804, 0.00238419, 0.00287271, 0.0021131 ,\n",
            "       0.00306129, 0.00311899, 0.00337839, 0.00250602, 0.00230098,\n",
            "       0.00205851, 0.00245953, 0.0020144 , 0.00196743, 0.00201654,\n",
            "       0.00200224, 0.00196266, 0.00213861, 0.00203514, 0.00214219,\n",
            "       0.00207329, 0.00203204, 0.00206351, 0.00204134, 0.00199413,\n",
            "       0.00201106, 0.00200009, 0.00198698, 0.00201178, 0.00231695,\n",
            "       0.00208426, 0.00206685, 0.00202417, 0.00205112, 0.00206709,\n",
            "       0.00225735, 0.00202394, 0.00215054, 0.00203562, 0.0019784 ,\n",
            "       0.00203443, 0.00206113, 0.00196934, 0.00220561, 0.00206017,\n",
            "       0.00198483, 0.00196457, 0.00204802, 0.00195074, 0.00192881,\n",
            "       0.00200462, 0.00192714, 0.00196362, 0.00195575, 0.0020237 ,\n",
            "       0.00194073, 0.00190449, 0.00191832, 0.0019896 , 0.00200868,\n",
            "       0.00201082, 0.0019896 , 0.00199246, 0.00199103, 0.00193095,\n",
            "       0.00191998, 0.0019598 , 0.00199795, 0.00200105, 0.00201321,\n",
            "       0.00215864, 0.00199819, 0.00235271, 0.00204921, 0.00209737,\n",
            "       0.00211048, 0.00212431, 0.00244403, 0.00217986, 0.00239444,\n",
            "       0.00203347, 0.00200725, 0.00208378, 0.00203848, 0.00207758,\n",
            "       0.00206089, 0.0020597 , 0.00203872, 0.00201559, 0.00224423,\n",
            "       0.0021317 , 0.00276446, 0.00215054, 0.00205159, 0.00198936,\n",
            "       0.00201201, 0.00198436, 0.00200915, 0.00206614, 0.00201225,\n",
            "       0.00210881, 0.00266576, 0.00238037, 0.00219345, 0.00206733,\n",
            "       0.00203919, 0.00231957, 0.00204134, 0.00205183, 0.00200295,\n",
            "       0.00259495, 0.00206995, 0.00197911, 0.00251579, 0.00242376,\n",
            "       0.00243449, 0.0023694 , 0.00236869, 0.0025866 , 0.0019691 ,\n",
            "       0.00200319, 0.00208569, 0.00208545, 0.00202179, 0.0027566 ,\n",
            "       0.00197029, 0.00202608, 0.00199127, 0.0025208 , 0.00211644,\n",
            "       0.00208831, 0.00203156, 0.00208807, 0.00211072, 0.00240564,\n",
            "       0.00250626, 0.00252771, 0.00316048, 0.00252438, 0.00298309,\n",
            "       0.00216818, 0.002069  , 0.00323486, 0.00334644, 0.00307107,\n",
            "       0.0021441 , 0.00203085, 0.00204086, 0.00200319, 0.00204754,\n",
            "       0.00204396, 0.00214958, 0.00206041, 0.002177  , 0.0022161 ,\n",
            "       0.00207567, 0.00213671, 0.00208259, 0.00198245, 0.00230265,\n",
            "       0.00202847, 0.0019877 , 0.00225663, 0.00193   , 0.00198579,\n",
            "       0.00202322, 0.00205517, 0.00195026, 0.00199413, 0.00191283,\n",
            "       0.00197697, 0.00200868, 0.0019784 , 0.00223947, 0.00237083,\n",
            "       0.00326681, 0.00212026, 0.00208044, 0.00259328, 0.00203156,\n",
            "       0.00199819, 0.00201011, 0.00199485, 0.00206041, 0.00205564,\n",
            "       0.00211549, 0.00198078, 0.00203776, 0.00201464, 0.00279307,\n",
            "       0.00206041, 0.00202036, 0.00240684, 0.00198078, 0.00254607,\n",
            "       0.00204396, 0.00251865, 0.00219274, 0.00203848, 0.00214553,\n",
            "       0.00211573, 0.00221109, 0.00219464, 0.00237131, 0.0024004 ,\n",
            "       0.0033567 , 0.00307965, 0.00281763, 0.00220203, 0.00205112,\n",
            "       0.00291777, 0.0021534 , 0.00334239, 0.00230598, 0.00263214,\n",
            "       0.00295997, 0.0023551 , 0.00310683, 0.00235629, 0.00307679,\n",
            "       0.00227213, 0.00208306, 0.00271678, 0.00213981, 0.00222111,\n",
            "       0.00214291, 0.00201988, 0.00209856, 0.00297141, 0.00209188,\n",
            "       0.00214934, 0.00203848, 0.00269985, 0.00294065, 0.00253272,\n",
            "       0.00237083, 0.00253344, 0.00247526, 0.00315976, 0.00282574,\n",
            "       0.00247812, 0.00316882, 0.00273061, 0.00271773, 0.00214195,\n",
            "       0.00245905, 0.00242138, 0.00202584, 0.0035007 , 0.00209975,\n",
            "       0.00223708, 0.00222802, 0.0020597 , 0.00202727, 0.0020051 ,\n",
            "       0.00229073, 0.0027144 , 0.0026567 , 0.0033257 , 0.00215578,\n",
            "       0.00246072, 0.00305176, 0.00211239, 0.00217104, 0.00213337,\n",
            "       0.00202227, 0.0030818 , 0.00295901, 0.00322247, 0.00236249,\n",
            "       0.00248671, 0.00297546, 0.00215721, 0.00206637, 0.00211453,\n",
            "       0.00211883, 0.00204873, 0.0020225 , 0.00200105, 0.00195789,\n",
            "       0.00197387, 0.00288963, 0.00222468, 0.00217962, 0.00210381,\n",
            "       0.00245667, 0.00225353, 0.00223708, 0.00214601, 0.00216651,\n",
            "       0.00202727, 0.00318599, 0.00209284, 0.00207329, 0.00210047,\n",
            "       0.0024004 , 0.00212646, 0.00206923, 0.00279021, 0.00234532,\n",
            "       0.00344253, 0.00234771, 0.00239372, 0.00204396, 0.00203109,\n",
            "       0.00227165, 0.00238585, 0.00205183, 0.00211334, 0.00229359,\n",
            "       0.00216818, 0.00227571]), 'test_score': array([2.02001002e+00, 1.25092412e+00, 3.06805164e+00, 6.79901984e-02,\n",
            "       7.08255629e-01, 4.13566745e+01, 8.13755358e+01, 6.71494767e+01,\n",
            "       9.70498847e+01, 2.63430368e+01, 3.67428697e+00, 4.70741691e-01,\n",
            "       1.60507789e+00, 9.70498847e+01, 8.89557151e-01, 8.69418110e+00,\n",
            "       4.41228965e+01, 3.06562225e+01, 9.16549732e-01, 4.53185378e+01,\n",
            "       1.45705281e+00, 3.00983554e+00, 3.54617605e-03, 1.52964088e+01,\n",
            "       2.25022208e+01, 1.67905446e+01, 2.76735351e+00, 1.85354648e+01,\n",
            "       2.29957474e-01, 9.16549732e-01, 5.18379999e+00, 3.54617605e-03,\n",
            "       2.66745510e+01, 5.44791120e+01, 5.14078324e+01, 4.99405256e+01,\n",
            "       3.80360006e+01, 1.19884585e-02, 2.91033003e+00, 3.23104363e+00,\n",
            "       5.16691118e+00, 2.32487332e-01, 1.06678908e-02, 4.82615264e-01,\n",
            "       2.10211114e+01, 4.35585197e+01, 2.66745510e+01, 6.51231162e+01,\n",
            "       1.13690418e+01, 5.18379999e+00, 1.25085727e+00, 4.27873211e+00,\n",
            "       1.77161819e+00, 3.58044876e+01, 1.21519855e+01, 8.41044041e+00,\n",
            "       8.89557151e-01, 5.36657259e+00, 7.17595842e+01, 3.30230842e+01,\n",
            "       2.89239650e+01, 8.09034686e-01, 2.91033003e+00, 1.60507789e+00,\n",
            "       3.23104363e+00, 5.55648116e-01, 1.58374562e+01, 6.18633936e+00,\n",
            "       7.30069293e+00, 9.62066868e+00, 3.18079355e+01, 1.60507789e+00,\n",
            "       4.14699861e+01, 2.36253376e+01, 5.16691118e+00, 1.82205869e+01,\n",
            "       3.55599555e+01, 2.72424889e+01, 9.35761228e+00, 1.91401940e+01,\n",
            "       6.72450828e+00, 2.65440672e+00, 4.81922115e-01, 9.16549732e-01,\n",
            "       4.82615264e-01, 5.16691118e+00, 1.65673457e+01, 1.87496691e+01,\n",
            "       1.60507789e+00, 1.14041800e+01, 1.07534901e+01, 4.04602925e+00,\n",
            "       5.16691118e+00, 5.14127073e+01, 6.07551884e+01, 4.82615264e-01,\n",
            "       2.89000924e+01, 6.67900464e+01, 3.80360006e+01, 6.51231162e+01,\n",
            "       3.78643546e+00, 4.53185378e+01, 2.80008847e+01, 2.52995804e+00,\n",
            "       1.06678908e-02, 2.32487332e-01, 3.80360006e+01, 3.67700670e+01,\n",
            "       5.78250435e+01, 9.65326195e+00, 6.00999134e+01, 5.69004321e+01,\n",
            "       4.20960109e+00, 7.34161330e-02, 4.24141077e+00, 1.62504118e+02,\n",
            "       1.04124952e+01, 1.69263872e+01, 3.12256930e+01, 1.06661158e+01,\n",
            "       1.60507789e+00, 2.04714617e+00, 4.63627225e-01, 2.81308530e-01,\n",
            "       2.45422744e+01, 2.66745510e+01, 8.41826427e+01, 2.71568614e+00,\n",
            "       1.72393986e+00, 5.45824770e+00, 9.67273723e+00, 6.67900464e+01,\n",
            "       4.34294154e+01, 2.89000924e+01, 3.40894184e+00, 1.07534901e+01,\n",
            "       5.16691118e+00, 1.48674828e+01, 5.16691118e+00, 4.71985461e+00,\n",
            "       1.14045570e+01, 2.65723179e+00, 5.37714836e-01, 2.89872607e+00,\n",
            "       9.58490755e-03, 1.69263872e+01, 4.43538684e+00, 3.92603313e-01,\n",
            "       5.56174397e-01, 2.71568614e+00, 3.54826220e+01, 2.89000924e+01,\n",
            "       1.85793766e+02, 1.85793766e+02, 8.56678574e+00, 4.24141077e+00,\n",
            "       6.79901984e-02, 6.70768171e+00, 3.12200353e+01, 5.44791120e+01,\n",
            "       5.76492515e+01, 4.84338370e+01, 2.48707630e+00, 6.65463189e+00,\n",
            "       4.35279867e+01, 8.21133366e-01, 1.48042183e+01, 1.73234837e+01,\n",
            "       2.15428333e+01, 6.16014660e-01, 1.40301443e+01, 3.92603313e-01,\n",
            "       4.41228965e+01, 1.29490738e-02, 4.55556484e+01, 3.78643546e+00,\n",
            "       9.33148243e+00, 6.11852866e+00, 1.04014510e+01, 2.07408852e+00,\n",
            "       2.70256448e+00, 4.65694071e+00, 1.72487801e-01, 2.16539700e+00,\n",
            "       2.74918795e-02, 1.15058589e-01, 6.79901984e-02, 3.03694219e+01,\n",
            "       2.11072545e+00, 4.65249596e+00, 1.86499577e+00, 9.99513766e+00,\n",
            "       1.04928647e+01, 7.55152999e+00, 3.60116535e+01, 1.29490738e-02,\n",
            "       2.07408852e+00, 1.73234837e+01, 9.33213791e+01, 1.66755705e+01,\n",
            "       5.56635197e+01, 5.99987945e-01, 9.78228164e+00, 9.58490755e-03,\n",
            "       4.32695051e+00, 1.47882454e+01, 1.07534901e+01, 4.99405256e+01,\n",
            "       1.51995441e+01, 2.03208885e+01, 2.53881491e+01, 1.65673457e+01,\n",
            "       4.14699861e+01, 1.07534901e+01, 5.33042511e+00, 7.29756797e+00,\n",
            "       2.75846571e+01, 5.17186811e-01, 2.14795069e+01, 2.06180738e-01,\n",
            "       3.12200353e+01, 2.42350354e+00, 1.96456368e+01, 2.58692664e+01,\n",
            "       8.23394721e+00, 2.66745510e+01, 3.57935557e+01, 2.05425417e+01,\n",
            "       5.86547892e+00, 3.18124590e+01, 1.75981847e-01, 1.90777485e+00,\n",
            "       2.40313535e+00, 4.43538684e+00, 1.51190554e-01, 2.61303673e-01,\n",
            "       4.47244402e+01, 4.13364701e-01, 8.33410057e+00, 6.92684164e+00,\n",
            "       1.15721954e+00, 1.15721954e+00, 1.17243677e+02, 4.37670739e+01,\n",
            "       1.16629732e+00, 1.11553234e+02, 3.21334196e+01, 7.18196254e+00,\n",
            "       2.46435792e+00, 4.90518618e+00, 1.74123514e+01, 1.98261758e+01,\n",
            "       4.01877223e+01, 8.99439615e-01, 1.34018435e+01, 4.03012186e+01,\n",
            "       7.66863328e+00, 3.29183245e+01, 1.58667760e+01, 8.42803414e+00,\n",
            "       4.67977341e+00, 1.47657800e+01, 1.10336292e-02, 1.15058589e-01,\n",
            "       6.42346961e-01, 6.58606332e+00, 6.66627625e+00, 7.91798088e+00,\n",
            "       1.48304437e+01, 2.64318792e-02, 7.44090531e+00, 5.28305235e-01,\n",
            "       1.14684171e+01, 1.03414523e+01, 3.39377102e-02, 7.58123595e+00,\n",
            "       7.74842230e+00, 8.94190790e-02, 8.09384884e-02, 4.54365642e+01,\n",
            "       1.41140526e+01, 3.07579754e+01, 3.91284380e+00, 5.88043263e+00,\n",
            "       3.92436810e+00, 2.75808267e+00, 1.83702289e-01, 2.07387025e+00,\n",
            "       4.12916020e+00, 1.01722577e+00, 5.08353300e+00, 1.01467782e+01,\n",
            "       1.97789373e+01, 7.09285156e+01, 8.47276098e-03, 5.71702729e+00,\n",
            "       7.86198816e+00, 2.35859722e+00, 3.36788510e+00, 2.84924847e+01,\n",
            "       3.18008270e+01, 4.55923166e+00, 6.88003729e+01, 7.17149316e+00,\n",
            "       4.94993583e+01, 2.53016852e+01, 6.07286850e+01, 1.85344168e+02,\n",
            "       5.89921650e+01, 1.04207991e+01, 5.72092847e+01, 5.18379999e+00,\n",
            "       1.26415094e-01, 2.05638892e+00, 4.42118654e+01, 4.49064563e+01,\n",
            "       1.66631623e+01, 1.03395519e+01, 1.34992151e+02, 1.69676219e+01,\n",
            "       2.89448955e+02, 2.06974399e+01, 1.25051574e+02, 1.44905192e+02,\n",
            "       1.23884653e+02, 5.00546480e+01, 4.13364701e-01, 2.34577604e+02,\n",
            "       1.99088405e+01, 1.23537151e-01, 1.86386212e+02, 2.04808540e-01,\n",
            "       8.06690157e+01, 1.47899420e+01, 2.75430770e-01, 5.95305638e-03,\n",
            "       1.49726751e-01, 8.63932788e-01, 1.11156438e+01, 7.00853046e+01,\n",
            "       8.49303469e+01, 2.17401579e+01, 8.72867547e+00, 5.42082969e+01,\n",
            "       5.76616427e+01, 2.42205203e+01, 2.24153948e+01, 2.25523558e+01,\n",
            "       5.07271492e-02, 2.26998788e+01, 3.16437445e+01, 1.86623193e+01,\n",
            "       7.69355372e+01, 1.12801915e+01, 6.31334897e-01, 7.68002445e+00,\n",
            "       1.43235862e+01, 1.03365290e+01, 3.00647280e-02, 1.05372851e+01,\n",
            "       3.43774311e+01, 8.00620412e+01, 3.84314632e+00, 9.16549732e-01,\n",
            "       6.36574958e+01, 2.02081766e+01, 5.43229349e+00, 1.62275765e+00,\n",
            "       2.01113213e+00, 6.04809802e+01, 6.13959910e+01, 3.26284998e+00,\n",
            "       6.48476825e+01, 5.10675623e+01, 9.96926676e+01, 6.29583618e+01,\n",
            "       2.63878500e+01, 7.53932748e+01, 7.03805538e+00, 7.53932748e+01,\n",
            "       5.92141501e+00, 1.32661105e+02, 3.45169047e-01, 6.65300161e-02,\n",
            "       5.23682368e+01, 8.74921443e+01, 1.62275765e+00, 4.10622168e-01,\n",
            "       1.52827762e+02, 2.85218299e+01, 2.87124380e-01, 1.61698064e+01])}\n"
          ]
        }
      ]
    },
    {
      "cell_type": "code",
      "source": [
        "cv_err = np.mean(cv_results['test_score'])\n",
        "print(cv_err)"
      ],
      "metadata": {
        "colab": {
          "base_uri": "https://localhost:8080/"
        },
        "id": "SjvCrMEcflEd",
        "outputId": "92a07662-a9f6-4594-baf3-65b9d550f95c"
      },
      "execution_count": 23,
      "outputs": [
        {
          "output_type": "stream",
          "name": "stdout",
          "text": [
            "24.23151351792922\n"
          ]
        }
      ]
    },
    {
      "cell_type": "code",
      "source": [
        "Auto.shape[0]"
      ],
      "metadata": {
        "colab": {
          "base_uri": "https://localhost:8080/"
        },
        "id": "ekUBIiwbforG",
        "outputId": "da2fe6ed-cb7a-4a6c-80a7-5e3ac7cbdb50"
      },
      "execution_count": 24,
      "outputs": [
        {
          "output_type": "execute_result",
          "data": {
            "text/plain": [
              "392"
            ]
          },
          "metadata": {},
          "execution_count": 24
        }
      ]
    },
    {
      "cell_type": "code",
      "source": [
        "cv_error = np.zeros(5)\n",
        "H = np.array(Auto['horsepower'])\n",
        "M = sklearn_sm(sm.OLS)\n",
        "for i, d in enumerate(range(1,6)):\n",
        "    X = np.power.outer(H, np.arange(d+1)) #polynomial feature generation\n",
        "    M_CV = cross_validate(M,\n",
        "                          X,\n",
        "                          Y,\n",
        "                          cv=Auto.shape[0]) #LOOCV N-fold cross validation\n",
        "    cv_error[i] = np.mean(M_CV['test_score'])\n",
        "cv_error\n"
      ],
      "metadata": {
        "colab": {
          "base_uri": "https://localhost:8080/"
        },
        "id": "5UZt4NbLftga",
        "outputId": "6d029c33-86a3-496a-cde7-39f37be1b62f"
      },
      "execution_count": 29,
      "outputs": [
        {
          "output_type": "execute_result",
          "data": {
            "text/plain": [
              "array([24.23151352, 19.24821312, 19.33498406, 19.42443029, 19.03320648])"
            ]
          },
          "metadata": {},
          "execution_count": 29
        }
      ]
    },
    {
      "cell_type": "markdown",
      "source": [
        "## **10 fold cross validation**"
      ],
      "metadata": {
        "id": "WTxus6Kci0Ib"
      }
    },
    {
      "cell_type": "code",
      "source": [
        "cv_error = np.zeros(5)\n",
        "cv = KFold(n_splits=10,\n",
        "           shuffle=True,\n",
        "           random_state=20) # use same splits for each degree\n",
        "for i, d in enumerate(range(1,6)):\n",
        "    X = np.power.outer(H, np.arange(d+1))\n",
        "    M_CV = cross_validate(M,\n",
        "                          X,\n",
        "                          Y,\n",
        "                          cv=cv)\n",
        "    cv_error[i] = np.mean(M_CV['test_score'])\n",
        "cv_error"
      ],
      "metadata": {
        "colab": {
          "base_uri": "https://localhost:8080/"
        },
        "id": "o4qmePqfi4HD",
        "outputId": "72a63d51-a6bb-4cd0-b1bf-8b5ab28f6414"
      },
      "execution_count": 30,
      "outputs": [
        {
          "output_type": "execute_result",
          "data": {
            "text/plain": [
              "array([24.24809835, 19.44593146, 19.57287186, 19.65952645, 19.12821126])"
            ]
          },
          "metadata": {},
          "execution_count": 30
        }
      ]
    },
    {
      "cell_type": "code",
      "source": [
        "validation = ShuffleSplit(n_splits=10,\n",
        "                         test_size=196,\n",
        "                         random_state=0)\n",
        "results = cross_validate(hp_model,\n",
        "                         Auto.drop(['mpg'], axis = 1),\n",
        "                         Auto['mpg'],\n",
        "                         cv=validation)\n",
        "results['test_score'].mean(), results['test_score'].std()"
      ],
      "metadata": {
        "colab": {
          "base_uri": "https://localhost:8080/"
        },
        "id": "l7koyEiwln5q",
        "outputId": "6ef95c9a-8cb9-4c09-e949-3a37b93b36b1"
      },
      "execution_count": 33,
      "outputs": [
        {
          "output_type": "execute_result",
          "data": {
            "text/plain": [
              "(23.802232661034168, 1.4218450941091842)"
            ]
          },
          "metadata": {},
          "execution_count": 33
        }
      ]
    }
  ]
}